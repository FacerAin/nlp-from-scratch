{
 "cells": [
  {
   "cell_type": "code",
   "execution_count": 3,
   "metadata": {},
   "outputs": [],
   "source": [
    "import urllib\n",
    "import random\n",
    "import os\n",
    "import collections\n",
    "import math\n",
    "import numpy as np\n",
    "from tqdm import tqdm\n",
    "import torch\n",
    "from torch import nn\n",
    "from torch.nn import functional as F\n",
    "import torchtext\n",
    "from torch.utils.data import Dataset, DataLoader, random_split"
   ]
  },
  {
   "cell_type": "code",
   "execution_count": 4,
   "metadata": {},
   "outputs": [],
   "source": [
    "os.makedirs('data', exist_ok=True)\n",
    "dataset_train, dataset_test = torchtext.datasets.Multi30k(root='./data', split=('train', 'test'), language_pair=('de', 'en'))\n",
    "tokenizer_en = torchtext.data.utils.get_tokenizer('spacy', language=\"en_core_web_sm\")\n",
    "tokenizer_de = torchtext.data.utils.get_tokenizer('spacy', language=\"de_core_news_sm\")\n",
    "dataset_train = list(dataset_train)\n",
    "dataset_test = list(dataset_test)"
   ]
  },
  {
   "cell_type": "code",
   "execution_count": 5,
   "metadata": {},
   "outputs": [
    {
     "name": "stdout",
     "output_type": "stream",
     "text": [
      "Start Tokenizing...\n"
     ]
    },
    {
     "name": "stderr",
     "output_type": "stream",
     "text": [
      "100%|██████████| 29001/29001 [00:07<00:00, 4038.04it/s]\n"
     ]
    },
    {
     "name": "stdout",
     "output_type": "stream",
     "text": [
      "Making En Vocab\n"
     ]
    },
    {
     "name": "stderr",
     "output_type": "stream",
     "text": [
      "100%|██████████| 29001/29001 [00:00<00:00, 162961.48it/s]\n"
     ]
    },
    {
     "name": "stdout",
     "output_type": "stream",
     "text": [
      "Making De Vocab\n"
     ]
    },
    {
     "name": "stderr",
     "output_type": "stream",
     "text": [
      "100%|██████████| 29001/29001 [00:00<00:00, 174037.78it/s]\n"
     ]
    }
   ],
   "source": [
    "tokenized_en_data = []\n",
    "tokenized_de_data = []\n",
    "counter_en = collections.Counter()\n",
    "counter_de = collections.Counter()\n",
    "\n",
    "print('Start Tokenizing...')\n",
    "for de, en in tqdm(dataset_train):\n",
    "    tokens_de = tokenizer_en(de)\n",
    "    tokens_en = tokenizer_de(en)\n",
    "    tokenized_de_data.append(tokens_de)\n",
    "    tokenized_en_data.append(tokens_en)\n",
    "    \n",
    "print('Making En Vocab')\n",
    "for line in tqdm(tokenized_en_data):\n",
    "    counter_en.update(line)\n",
    "\n",
    "print('Making De Vocab')\n",
    "for line in tqdm(tokenized_de_data):\n",
    "    counter_de.update(line)\n",
    "\n",
    "vocab_en = torchtext.vocab.vocab(counter_en, min_freq=1, specials=[\"<unk>\", \"<pad>\", \"<sos>\", \"<eos>\"])\n",
    "vocab_de = torchtext.vocab.vocab(counter_de, min_freq=1, specials=[\"<unk>\", \"<pad>\", \"<sos>\", \"<eos>\"])\n",
    "\n",
    "\n"
   ]
  },
  {
   "cell_type": "code",
   "execution_count": 6,
   "metadata": {},
   "outputs": [],
   "source": [
    "class Multi30kDataset(Dataset):\n",
    "    def __init__(self, tokenized_src, tokenized_tgt, vocab_src, vocab_tgt, max_seq = 256):\n",
    "        self.src = []\n",
    "        self.tgt = []\n",
    "\n",
    "        for tokens in tqdm(tokenized_src, \"Src data\"):\n",
    "            token_ids = [vocab_src['<sos>']]\n",
    "            token_ids += [vocab_src[token] for token in tokens]\n",
    "            token_ids += [vocab_src['<eos>']]\n",
    "            self.src.append(token_ids)\n",
    "\n",
    "        for tokens in tqdm(tokenized_tgt, \"Tgt data\"):\n",
    "            token_ids = [vocab_tgt['<sos>']]\n",
    "            token_ids += [vocab_tgt[token] for token in tokens]\n",
    "            token_ids += [vocab_tgt['<eos>']]\n",
    "            self.tgt.append(token_ids)\n",
    "\n",
    "    def __len__(self):\n",
    "        return len(self.src)\n",
    "\n",
    "    def __getitem__(self, idx):\n",
    "        return torch.tensor(self.src[idx]), torch.tensor(self.tgt[idx])"
   ]
  },
  {
   "cell_type": "code",
   "execution_count": 7,
   "metadata": {},
   "outputs": [
    {
     "name": "stderr",
     "output_type": "stream",
     "text": [
      "Src data: 100%|██████████| 29001/29001 [00:00<00:00, 48766.91it/s]\n",
      "Tgt data: 100%|██████████| 29001/29001 [00:00<00:00, 54135.17it/s]\n"
     ]
    }
   ],
   "source": [
    "multi30k_dataset = Multi30kDataset(tokenized_de_data, tokenized_en_data, vocab_de, vocab_en)"
   ]
  },
  {
   "cell_type": "code",
   "execution_count": 8,
   "metadata": {},
   "outputs": [],
   "source": [
    "train_ratio = 0.8\n",
    "train_size = int(train_ratio*len(multi30k_dataset))\n",
    "valid_size = len(multi30k_dataset) - train_size\n",
    "train_dataset, valid_dataset = random_split(multi30k_dataset, [train_size, valid_size])"
   ]
  },
  {
   "cell_type": "code",
   "execution_count": 80,
   "metadata": {},
   "outputs": [],
   "source": [
    "class MultiHeadAttentionLayer(nn.Module):\n",
    "    def __init__(self, hidden_size, n_heads, device):\n",
    "        super().__init__()\n",
    "        self.hidden_size = hidden_size\n",
    "        self.n_heads = n_heads\n",
    "        self.head_size = hidden_size // n_heads\n",
    "\n",
    "        self.fc_q = nn.Linear(hidden_size, hidden_size)\n",
    "        self.fc_k = nn.Linear(hidden_size, hidden_size)\n",
    "        self.fc_v = nn.Linear(hidden_size, hidden_size)\n",
    "        self.fc_o = nn.Linear(hidden_size, hidden_size)\n",
    "\n",
    "        self.scale = torch.sqrt(torch.FloatTensor([self.head_size])).to(device)\n",
    "\n",
    "    def forward(self, query, key, value, mask=None):\n",
    "        #query: [batch_size, query_length, hidden_size]\n",
    "        #key: [batch_size, key_length, hidden_size]\n",
    "        #value: [batch_size, value_length, hidden_size]\n",
    "\n",
    "        batch_size = query.size(0)\n",
    "\n",
    "        Q = self.fc_q(query)\n",
    "        K = self.fc_k(key)\n",
    "        V = self.fc_v(value)\n",
    "\n",
    "        #Q: [batch_size, query_length, hidden_size]\n",
    "        #K: [batch_size, key_length, hidden_size]\n",
    "        #V: [batch_size, value_length, hidden_size]\n",
    "\n",
    "        Q = Q.view(batch_size, -1, self.n_heads, self.head_size).permute(0,2,1,3)\n",
    "        K = K.view(batch_size, -1, self.n_heads, self.head_size).permute(0,2,1,3)\n",
    "        V = V.view(batch_size, -1, self.n_heads, self.head_size).permute(0,2,1,3)\n",
    "        #Q: [batch_size, n_heads, query_length, head_size]\n",
    "        #K: [batch_size, n_heads, key_length, head_size]\n",
    "        #V: [batch_size, n_heads, value_length, head_size]\n",
    "\n",
    "        energy = torch.matmul(Q, K.permute(0,1,3,2)) / self.scale\n",
    "        #energy: [batch_size, n_heads, query_length, key_length]\n",
    "\n",
    "        if mask is not None:\n",
    "            energy = energy.masked_fill(mask==0, -1e10)\n",
    "        attention = torch.softmax(energy, dim=-1)\n",
    "        #attention: [batch_size, n_heads, query_length, key_length]\n",
    "\n",
    "        out = torch.matmul(attention, V)\n",
    "        #out: [batch_size, n_heads, query_length, head_size]\n",
    "\n",
    "        out = out.permute(0,2,1,3).contiguous()\n",
    "        #out: [batch_size, query_length, n_heads, head_size]\n",
    "\n",
    "        out = out.view(batch_size, -1, self.hidden_size)\n",
    "        #out: [batch_size, query_length, hidden_size]\n",
    "\n",
    "        out = self.fc_o(out)\n",
    "        #out: [batch_size, query_length, hidden_size]\n",
    "\n",
    "        return out, attention"
   ]
  },
  {
   "cell_type": "code",
   "execution_count": 81,
   "metadata": {},
   "outputs": [],
   "source": [
    "class PositionwiseFeedforwardLayer(nn.Module):\n",
    "    def __init__(self, hidden_size, pwff_size):\n",
    "        super().__init__()\n",
    "\n",
    "        self.fc1 = nn.Linear(hidden_size, pwff_size)\n",
    "        self.fc2 = nn.Linear(pwff_size, hidden_size)\n",
    "\n",
    "    def forward(self, input):\n",
    "        #input: [batch_size, sequence_length, hidden_size]\n",
    "\n",
    "        out = self.fc1(input)\n",
    "        out = torch.relu(out)\n",
    "        out = self.fc2(out)\n",
    "\n",
    "        #out: [batch_size, sequence_length, hidden_size]\n",
    "\n",
    "        return out\n"
   ]
  },
  {
   "cell_type": "code",
   "execution_count": 82,
   "metadata": {},
   "outputs": [],
   "source": [
    "class EncoderLayer(nn.Module):\n",
    "    def __init__(self, hidden_size, n_heads, pwff_size, device):\n",
    "        super().__init__()\n",
    "\n",
    "        self.self_attn_layer_norm = nn.LayerNorm(hidden_size)\n",
    "        self.ff_layer_norm = nn.LayerNorm(hidden_size)\n",
    "        self.self_attention = MultiHeadAttentionLayer(hidden_size, n_heads, device)\n",
    "        self.positionwise_feedforward = PositionwiseFeedforwardLayer(hidden_size, pwff_size)\n",
    "    \n",
    "    def forward(self, input, input_mask):\n",
    "        #input: [batch_size, input_size, hidden_size]\n",
    "        #input_mask: [batch_size, 1, 1, input_size]\n",
    "\n",
    "        _out, _ = self.self_attention(input, input, input, input_mask)\n",
    "\n",
    "        out = self.self_attn_layer_norm(input + _out)\n",
    "\n",
    "        #input: [batch_size, input_size, hidden_size]\n",
    "\n",
    "        _out = self.positionwise_feedforward(out)\n",
    "\n",
    "        out = self.ff_layer_norm(out + _out)\n",
    "\n",
    "        #out: [batch_size, input_size, hidden_size]\n",
    "\n",
    "        return out\n"
   ]
  },
  {
   "cell_type": "code",
   "execution_count": 83,
   "metadata": {},
   "outputs": [],
   "source": [
    "#Ref: https://github.com/bentrevett/pytorch-seq2seq/blob/master/6%20-%20Attention%20is%20All%20You%20Need.ipynb\n",
    "class Encoder(nn.Module):\n",
    "    def __init__(self, vocab_size, hidden_size, pwff_size, n_layers, n_heads, device, max_size=100):\n",
    "        super().__init__()\n",
    "\n",
    "        self.device = device\n",
    "        self.token_embedding = nn.Embedding(vocab_size, hidden_size)\n",
    "        self.position_embedding = nn.Embedding(max_size, hidden_size)\n",
    "        self.layers = nn.ModuleList([EncoderLayer(hidden_size, n_heads, pwff_size,device) for _ in range(n_layers)])\n",
    "        self.scale = torch.sqrt(torch.FloatTensor([hidden_size])).to(device)\n",
    "    def forward(self, input, input_mask):\n",
    "        #input: [batch_size, input_size]\n",
    "        #input_mask: [batch_size, 1, 1, input_size]\n",
    "\n",
    "        batch_size, input_size = input.size()\n",
    "\n",
    "        pos = torch.arange(0, input_size).unsqueeze(0).repeat(batch_size,1).to(self.device)\n",
    "        #pos: [batch_size, input_size]\n",
    "\n",
    "        out = (self.token_embedding(input) * self.scale) + self.position_embedding(pos)\n",
    "        #out: [batch_size, input_size, hidden_size]\n",
    "\n",
    "        for layer in self.layers:\n",
    "            out = layer(out, input_mask)\n",
    "        \n",
    "        #out: [batch_size, input_size, hidden_size]\n",
    "\n",
    "        return out\n"
   ]
  },
  {
   "cell_type": "code",
   "execution_count": 84,
   "metadata": {},
   "outputs": [],
   "source": [
    "class DecoderLayer(nn.Module):\n",
    "    def __init__(self, hidden_size, n_heads, pwff_size, device):\n",
    "        super().__init__()\n",
    "\n",
    "        self.self_attn_layer_norm = nn.LayerNorm(hidden_size)\n",
    "        self.enc_dec_attn_layer_norm = nn.LayerNorm(hidden_size)\n",
    "        self.ff_layer_norm = nn.LayerNorm(hidden_size)\n",
    "        self.self_attention = MultiHeadAttentionLayer(hidden_size, n_heads, device)\n",
    "        self.encoder_decoder_attention = MultiHeadAttentionLayer(hidden_size, n_heads, device)\n",
    "        self.positionwise_feedforward = PositionwiseFeedforwardLayer(hidden_size, pwff_size)\n",
    "    \n",
    "    def forward(self, input, encoder_output, input_mask, encoder_mask):\n",
    "        #input: [batch_size, input_size, hidden_size]\n",
    "        #encoder_output = [batch_size, encoder_input_size, hidden_size]\n",
    "        #input_mask: [batch_size, 1, input_size, input_size]\n",
    "        #encoder_mask: [batch_size, 1, 1, encoder_input_size]\n",
    "\n",
    "        _out, _ = self.self_attention(input, input, input, input_mask)\n",
    "\n",
    "        out = self.self_attn_layer_norm(input + _out)\n",
    "\n",
    "        _out, attention = self.encoder_decoder_attention(input, encoder_output, encoder_output, encoder_mask)\n",
    "\n",
    "        out = self.enc_dec_attn_layer_norm(out + _out)\n",
    "\n",
    "        _out = self.positionwise_feedforward(out)\n",
    "\n",
    "        out = self.ff_layer_norm(out + _out)\n",
    "\n",
    "\n",
    "        return out, attention\n"
   ]
  },
  {
   "cell_type": "code",
   "execution_count": 85,
   "metadata": {},
   "outputs": [],
   "source": [
    "class Decoder(nn.Module):\n",
    "    def __init__(self, vocab_size, hidden_size, pwff_size, n_layers, n_heads, device, max_size=100):\n",
    "        super().__init__()\n",
    "\n",
    "        self.device = device\n",
    "        self.token_embedding = nn.Embedding(vocab_size, hidden_size)\n",
    "        self.position_embedding = nn.Embedding(max_size, hidden_size)\n",
    "        self.layers = nn.ModuleList([DecoderLayer(hidden_size, n_heads, pwff_size,device) for _ in range(n_layers)])\n",
    "        self.fc_out = nn.Linear(hidden_size, vocab_size)\n",
    "        self.scale = torch.sqrt(torch.FloatTensor([hidden_size])).to(device)\n",
    "    def forward(self, input, encoder_output, input_mask, encoder_mask):\n",
    "        #input: [batch_size, input_size, hidden_size]\n",
    "        #encoder_output = [batch_size, encoder_input_size, hidden_size]\n",
    "        #input_mask: [batch_size, 1, input_size, input_size]\n",
    "        #encoder_mask: [batch_size, 1, 1, encoder_input_size]\n",
    "\n",
    "        batch_size, input_size = input.size()\n",
    "\n",
    "        pos = torch.arange(0, input_size).unsqueeze(0).repeat(batch_size,1).to(self.device)\n",
    "        #pos: [batch_size, input_size]\n",
    "\n",
    "        out = (self.token_embedding(input) * self.scale) + self.position_embedding(pos)\n",
    "        #out: [batch_size, input_size, hidden_size]\n",
    "\n",
    "        for layer in self.layers:\n",
    "            out, attention = layer(out, encoder_output, input_mask, encoder_mask)\n",
    "        \n",
    "        #out: [batch_size, input_size, hidden_size]\n",
    "        #attention: [batch_size, n_heads, input_size, encoder_input_size]\n",
    "\n",
    "        out = self.fc_out(out)\n",
    "        #out: [batch_size, input_size, vocab_size]\n",
    "\n",
    "        return out, attention"
   ]
  },
  {
   "cell_type": "code",
   "execution_count": 86,
   "metadata": {},
   "outputs": [],
   "source": [
    "class Transformer(nn.Module):\n",
    "    def __init__(self, encoder, decoder, enc_pad_idx, dec_pad_idx, device):\n",
    "        super().__init__()\n",
    "\n",
    "        self.encoder = encoder\n",
    "        self.decoder = decoder\n",
    "        self.enc_pad_idx = enc_pad_idx\n",
    "        self.dec_pad_idx = dec_pad_idx\n",
    "        self.device = device\n",
    "    def make_enc_mask(self, input):\n",
    "        #input: [batch_size, input_size]\n",
    "        enc_mask = (input != self.enc_pad_idx).unsqueeze(1).unsqueeze(2)\n",
    "        #enc_mask: [batch_size, 1, 1, input_size]\n",
    "\n",
    "    def make_dec_mask(self, input):\n",
    "        #input: [batch_size, input_size]\n",
    "        dec_pad_mask = (input != self.dec_pad_idx).unsqueeze(1).unsqueeze(2)\n",
    "        #dec_pad_mask: [batch_size, 1, 1, input_size]\n",
    "\n",
    "        dec_input_size = input.size(1)\n",
    "        dec_sub_mask = torch.tril(torch.ones((dec_input_size,dec_input_size), device=self.device)).bool()\n",
    "        dec_mask = dec_pad_mask & dec_sub_mask\n",
    "\n",
    "        return dec_mask\n",
    "\n",
    "    def forward(self, src, tgt):\n",
    "        #src: [batch_size, src_length]\n",
    "        #tgt: [batch_size, tgt_length]\n",
    "\n",
    "        src_mask = self.make_enc_mask(src)\n",
    "        tgt_mask = self.make_dec_mask(tgt)\n",
    "\n",
    "        enc_output = self.encoder(src, src_mask)\n",
    "\n",
    "        output, attention = self.decoder(tgt, enc_output, tgt_mask, src_mask)\n",
    "\n",
    "        return output, attention\n",
    "\n"
   ]
  },
  {
   "cell_type": "code",
   "execution_count": 87,
   "metadata": {},
   "outputs": [],
   "source": [
    "device = torch.device('cuda') if torch.cuda.is_available() else torch.device('cpu')"
   ]
  },
  {
   "cell_type": "code",
   "execution_count": 88,
   "metadata": {},
   "outputs": [],
   "source": [
    "batch_size=256\n",
    "learning_rate = 0.001\n",
    "num_epochs = 10"
   ]
  },
  {
   "cell_type": "code",
   "execution_count": 89,
   "metadata": {},
   "outputs": [],
   "source": [
    "def pad_collate_fn(batch):\n",
    "    collate_x = []\n",
    "    collate_y = []\n",
    "    for src, tgt in batch:\n",
    "        collate_x.append(src)\n",
    "        collate_y.append(tgt)\n",
    "    collate_x = nn.utils.rnn.pad_sequence(collate_x, padding_value=vocab_de['<pad>'], batch_first=True)\n",
    "    collate_y = nn.utils.rnn.pad_sequence(collate_y, padding_value=vocab_en['<pad>'], batch_first=True)\n",
    "    return (collate_x, collate_y)"
   ]
  },
  {
   "cell_type": "code",
   "execution_count": 90,
   "metadata": {},
   "outputs": [],
   "source": [
    "train_dataloader = DataLoader(train_dataset, batch_size=batch_size, shuffle=True, collate_fn= pad_collate_fn)\n",
    "valid_dataloader = DataLoader(valid_dataset, batch_size=batch_size, shuffle=False, collate_fn= pad_collate_fn)"
   ]
  },
  {
   "cell_type": "code",
   "execution_count": 91,
   "metadata": {},
   "outputs": [],
   "source": [
    "encoder = Encoder(vocab_size=len(vocab_de), hidden_size=256, pwff_size=512, n_layers=3, n_heads=8, device=device, max_size=100)\n",
    "decoder = Decoder(vocab_size=len(vocab_en), hidden_size=256, pwff_size=512, n_layers=3, n_heads=8, device=device, max_size=100)"
   ]
  },
  {
   "cell_type": "code",
   "execution_count": 92,
   "metadata": {},
   "outputs": [],
   "source": [
    "model = Transformer(encoder, decoder, vocab_de['<pad>'], vocab_en['<pad>'], device).to(device)"
   ]
  },
  {
   "cell_type": "code",
   "execution_count": 93,
   "metadata": {},
   "outputs": [
    {
     "name": "stdout",
     "output_type": "stream",
     "text": [
      "The model has 14,599,302 trainable parameters\n"
     ]
    }
   ],
   "source": [
    "def count_parameters(model):\n",
    "    return sum(p.numel() for p in model.parameters() if p.requires_grad)\n",
    "\n",
    "print(f'The model has {count_parameters(model):,} trainable parameters')"
   ]
  },
  {
   "cell_type": "code",
   "execution_count": 94,
   "metadata": {},
   "outputs": [],
   "source": [
    "optimizer = torch.optim.Adam(model.parameters(), lr=learning_rate)\n",
    "criterion = nn.CrossEntropyLoss(ignore_index = vocab_en['<pad>'])"
   ]
  },
  {
   "cell_type": "code",
   "execution_count": 95,
   "metadata": {},
   "outputs": [],
   "source": [
    "def train(dataloader, epoch):\n",
    "    model.train()\n",
    "    epoch_loss = 0\n",
    "    epoch_acc = 0\n",
    "    data_num = 0\n",
    "    for src,tgt in tqdm(dataloader, desc=f\"Epoch {epoch}\"):\n",
    "        src, tgt = src.to(device), tgt.to(device)\n",
    "        outputs, _ = model(src, tgt)\n",
    "        #outputs: [batch_size, tgt_len, output_size]\n",
    "        #tgt: [batch_size, tgt_len, output_size]\n",
    "        output_size = outputs.shape[-1]\n",
    "        \n",
    "        output = outputs.reshape(-1,output_size)\n",
    "        #output: [(tgt_len - 1) * batch_size, output_size]\n",
    "        tgt = tgt.reshape(-1)\n",
    "        #tgt: [(tgt_len - 1) * batch_size]\n",
    "\n",
    "        optimizer.zero_grad()\n",
    "        loss = criterion(output, tgt)\n",
    "        loss.backward()\n",
    "        optimizer.step()\n",
    "        epoch_loss += loss.item()\n",
    "        data_num += src.size(0)\n",
    "\n",
    "    print(f\"Train Epoch: {epoch}, Loss: {epoch_loss/len(dataloader)}, PPL: {math.exp(epoch_loss/len(dataloader))}\")\n"
   ]
  },
  {
   "cell_type": "code",
   "execution_count": 96,
   "metadata": {},
   "outputs": [],
   "source": [
    "def evaluate(dataloader, epoch):\n",
    "    model.eval()\n",
    "    epoch_loss = 0\n",
    "    epoch_acc = 0\n",
    "    data_num = 0\n",
    "    for src,tgt in tqdm(dataloader, desc=f\"Epoch {epoch}\"):\n",
    "        src, tgt = src.to(device), tgt.to(device)\n",
    "        outputs, _ = model(src, tgt)\n",
    "        #outputs: [batch_size, tgt_len, output_size]\n",
    "        #tgt: [batch_size, tgt_len, output_size]\n",
    "        output_size = outputs.shape[-1]\n",
    "        output = outputs.reshape(-1,output_size)\n",
    "        #output: [(tgt_len - 1) * batch_size, output_size]\n",
    "        tgt = tgt.reshape(-1)\n",
    "        #tgt: [(tgt_len - 1) * batch_size]\n",
    "\n",
    "        loss = criterion(output, tgt)\n",
    "        epoch_loss += loss.item()\n",
    "        data_num += src.size(0)\n",
    "\n",
    "    print(f\"Evaluate Epoch: {epoch}, Loss: {epoch_loss/len(dataloader)}, PPL: {math.exp(epoch_loss/len(dataloader))}\")\n"
   ]
  },
  {
   "cell_type": "code",
   "execution_count": 97,
   "metadata": {},
   "outputs": [
    {
     "name": "stderr",
     "output_type": "stream",
     "text": [
      "Epoch 0: 100%|██████████| 91/91 [00:15<00:00,  5.92it/s]\n"
     ]
    },
    {
     "name": "stdout",
     "output_type": "stream",
     "text": [
      "Train Epoch: 0, Loss: 1.748643146438913, PPL: 5.746799817737287\n"
     ]
    },
    {
     "name": "stderr",
     "output_type": "stream",
     "text": [
      "Epoch 0: 100%|██████████| 23/23 [00:01<00:00, 16.01it/s]\n"
     ]
    },
    {
     "name": "stdout",
     "output_type": "stream",
     "text": [
      "Evaluate Epoch: 0, Loss: 0.5272486222826916, PPL: 1.6942643287540422\n",
      "--------------------------------------------------\n"
     ]
    },
    {
     "name": "stderr",
     "output_type": "stream",
     "text": [
      "Epoch 1: 100%|██████████| 91/91 [00:15<00:00,  5.91it/s]\n"
     ]
    },
    {
     "name": "stdout",
     "output_type": "stream",
     "text": [
      "Train Epoch: 1, Loss: 0.3171060371857423, PPL: 1.3731481689734168\n"
     ]
    },
    {
     "name": "stderr",
     "output_type": "stream",
     "text": [
      "Epoch 1: 100%|██████████| 23/23 [00:01<00:00, 16.22it/s]\n"
     ]
    },
    {
     "name": "stdout",
     "output_type": "stream",
     "text": [
      "Evaluate Epoch: 1, Loss: 0.27965009471644525, PPL: 1.3226669232136692\n",
      "--------------------------------------------------\n"
     ]
    },
    {
     "name": "stderr",
     "output_type": "stream",
     "text": [
      "Epoch 2: 100%|██████████| 91/91 [00:14<00:00,  6.07it/s]\n"
     ]
    },
    {
     "name": "stdout",
     "output_type": "stream",
     "text": [
      "Train Epoch: 2, Loss: 0.1468359622490275, PPL: 1.1581639648347941\n"
     ]
    },
    {
     "name": "stderr",
     "output_type": "stream",
     "text": [
      "Epoch 2: 100%|██████████| 23/23 [00:01<00:00, 15.22it/s]\n"
     ]
    },
    {
     "name": "stdout",
     "output_type": "stream",
     "text": [
      "Evaluate Epoch: 2, Loss: 0.20513340960378232, PPL: 1.2276888395200338\n",
      "--------------------------------------------------\n"
     ]
    },
    {
     "name": "stderr",
     "output_type": "stream",
     "text": [
      "Epoch 3: 100%|██████████| 91/91 [00:15<00:00,  6.04it/s]\n"
     ]
    },
    {
     "name": "stdout",
     "output_type": "stream",
     "text": [
      "Train Epoch: 3, Loss: 0.07461440952105837, PPL: 1.0774686091382675\n"
     ]
    },
    {
     "name": "stderr",
     "output_type": "stream",
     "text": [
      "Epoch 3: 100%|██████████| 23/23 [00:01<00:00, 15.86it/s]\n"
     ]
    },
    {
     "name": "stdout",
     "output_type": "stream",
     "text": [
      "Evaluate Epoch: 3, Loss: 0.1716972369214763, PPL: 1.187318302645865\n",
      "--------------------------------------------------\n"
     ]
    },
    {
     "name": "stderr",
     "output_type": "stream",
     "text": [
      "Epoch 4: 100%|██████████| 91/91 [00:15<00:00,  5.95it/s]\n"
     ]
    },
    {
     "name": "stdout",
     "output_type": "stream",
     "text": [
      "Train Epoch: 4, Loss: 0.0348629158113029, PPL: 1.0354777514423206\n"
     ]
    },
    {
     "name": "stderr",
     "output_type": "stream",
     "text": [
      "Epoch 4: 100%|██████████| 23/23 [00:01<00:00, 15.59it/s]\n"
     ]
    },
    {
     "name": "stdout",
     "output_type": "stream",
     "text": [
      "Evaluate Epoch: 4, Loss: 0.15637925299613373, PPL: 1.1692695679977712\n",
      "--------------------------------------------------\n"
     ]
    },
    {
     "name": "stderr",
     "output_type": "stream",
     "text": [
      "Epoch 5: 100%|██████████| 91/91 [00:15<00:00,  5.85it/s]\n"
     ]
    },
    {
     "name": "stdout",
     "output_type": "stream",
     "text": [
      "Train Epoch: 5, Loss: 0.011925492640380021, PPL: 1.011996884841202\n"
     ]
    },
    {
     "name": "stderr",
     "output_type": "stream",
     "text": [
      "Epoch 5: 100%|██████████| 23/23 [00:01<00:00, 15.35it/s]\n"
     ]
    },
    {
     "name": "stdout",
     "output_type": "stream",
     "text": [
      "Evaluate Epoch: 5, Loss: 0.1501953433389249, PPL: 1.1620612214772066\n",
      "--------------------------------------------------\n"
     ]
    },
    {
     "name": "stderr",
     "output_type": "stream",
     "text": [
      "Epoch 6: 100%|██████████| 91/91 [00:16<00:00,  5.65it/s]\n"
     ]
    },
    {
     "name": "stdout",
     "output_type": "stream",
     "text": [
      "Train Epoch: 6, Loss: 0.004746299472402085, PPL: 1.0047575809931732\n"
     ]
    },
    {
     "name": "stderr",
     "output_type": "stream",
     "text": [
      "Epoch 6: 100%|██████████| 23/23 [00:01<00:00, 12.65it/s]\n"
     ]
    },
    {
     "name": "stdout",
     "output_type": "stream",
     "text": [
      "Evaluate Epoch: 6, Loss: 0.14988347207722458, PPL: 1.1616988644851947\n",
      "--------------------------------------------------\n"
     ]
    },
    {
     "name": "stderr",
     "output_type": "stream",
     "text": [
      "Epoch 7: 100%|██████████| 91/91 [00:15<00:00,  6.01it/s]\n"
     ]
    },
    {
     "name": "stdout",
     "output_type": "stream",
     "text": [
      "Train Epoch: 7, Loss: 0.002985106190093435, PPL: 1.002989566056197\n"
     ]
    },
    {
     "name": "stderr",
     "output_type": "stream",
     "text": [
      "Epoch 7: 100%|██████████| 23/23 [00:01<00:00, 14.95it/s]\n"
     ]
    },
    {
     "name": "stdout",
     "output_type": "stream",
     "text": [
      "Evaluate Epoch: 7, Loss: 0.14896443615788998, PPL: 1.1606317119521492\n",
      "--------------------------------------------------\n"
     ]
    },
    {
     "name": "stderr",
     "output_type": "stream",
     "text": [
      "Epoch 8: 100%|██████████| 91/91 [00:15<00:00,  5.94it/s]\n"
     ]
    },
    {
     "name": "stdout",
     "output_type": "stream",
     "text": [
      "Train Epoch: 8, Loss: 0.0021932763098687917, PPL: 1.002195683299764\n"
     ]
    },
    {
     "name": "stderr",
     "output_type": "stream",
     "text": [
      "Epoch 8: 100%|██████████| 23/23 [00:01<00:00, 15.75it/s]\n"
     ]
    },
    {
     "name": "stdout",
     "output_type": "stream",
     "text": [
      "Evaluate Epoch: 8, Loss: 0.14893549875072812, PPL: 1.160598126765672\n",
      "--------------------------------------------------\n"
     ]
    },
    {
     "name": "stderr",
     "output_type": "stream",
     "text": [
      "Epoch 9: 100%|██████████| 91/91 [00:15<00:00,  5.96it/s]\n"
     ]
    },
    {
     "name": "stdout",
     "output_type": "stream",
     "text": [
      "Train Epoch: 9, Loss: 0.0017178093126698673, PPL: 1.0017192855922885\n"
     ]
    },
    {
     "name": "stderr",
     "output_type": "stream",
     "text": [
      "Epoch 9: 100%|██████████| 23/23 [00:01<00:00, 15.24it/s]"
     ]
    },
    {
     "name": "stdout",
     "output_type": "stream",
     "text": [
      "Evaluate Epoch: 9, Loss: 0.14886186854994815, PPL: 1.1605126748385333\n",
      "--------------------------------------------------\n"
     ]
    },
    {
     "name": "stderr",
     "output_type": "stream",
     "text": [
      "\n"
     ]
    }
   ],
   "source": [
    "\n",
    "for epoch in range(num_epochs):\n",
    "    train(train_dataloader, epoch)\n",
    "    evaluate(valid_dataloader, epoch)\n",
    "    print('-'*50)"
   ]
  },
  {
   "cell_type": "code",
   "execution_count": null,
   "metadata": {},
   "outputs": [],
   "source": []
  },
  {
   "cell_type": "code",
   "execution_count": null,
   "metadata": {},
   "outputs": [],
   "source": []
  }
 ],
 "metadata": {
  "kernelspec": {
   "display_name": "Python 3 (ipykernel)",
   "language": "python",
   "name": "python3"
  },
  "language_info": {
   "codemirror_mode": {
    "name": "ipython",
    "version": 3
   },
   "file_extension": ".py",
   "mimetype": "text/x-python",
   "name": "python",
   "nbconvert_exporter": "python",
   "pygments_lexer": "ipython3",
   "version": "3.9.13"
  },
  "orig_nbformat": 4
 },
 "nbformat": 4,
 "nbformat_minor": 2
}
