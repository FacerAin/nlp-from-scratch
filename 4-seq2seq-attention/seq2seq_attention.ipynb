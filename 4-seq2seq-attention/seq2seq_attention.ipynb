{
 "cells": [
  {
   "cell_type": "markdown",
   "metadata": {},
   "source": [
    "!conda install -c conda-forge spacy  \n",
    "!python -m spacy download en_core_web_sm  \n",
    "!python -m spacy download de_core_news_sm\n",
    "!pip install wasabi==0.9.1  "
   ]
  },
  {
   "cell_type": "code",
   "execution_count": 128,
   "metadata": {},
   "outputs": [],
   "source": [
    "import urllib\n",
    "import random\n",
    "import os\n",
    "import collections\n",
    "import math\n",
    "import numpy as np\n",
    "from tqdm import tqdm\n",
    "import torch\n",
    "from torch import nn\n",
    "from torch.nn import functional as F\n",
    "import torchtext\n",
    "from torch.utils.data import Dataset, DataLoader, random_split\n",
    "\n"
   ]
  },
  {
   "cell_type": "code",
   "execution_count": 129,
   "metadata": {},
   "outputs": [],
   "source": [
    "os.makedirs('data', exist_ok=True)\n",
    "dataset_train, dataset_test = torchtext.datasets.Multi30k(root='./data', split=('train', 'test'), language_pair=('de', 'en'))\n",
    "tokenizer_en = torchtext.data.utils.get_tokenizer('spacy', language=\"en_core_web_sm\")\n",
    "tokenizer_de = torchtext.data.utils.get_tokenizer('spacy', language=\"de_core_news_sm\")\n",
    "dataset_train = list(dataset_train)\n",
    "dataset_test = list(dataset_test)"
   ]
  },
  {
   "cell_type": "code",
   "execution_count": 130,
   "metadata": {},
   "outputs": [
    {
     "name": "stdout",
     "output_type": "stream",
     "text": [
      "Start Tokenizing...\n"
     ]
    },
    {
     "name": "stderr",
     "output_type": "stream",
     "text": [
      "100%|██████████| 29001/29001 [00:05<00:00, 5307.82it/s]\n"
     ]
    },
    {
     "name": "stdout",
     "output_type": "stream",
     "text": [
      "Making En Vocab\n"
     ]
    },
    {
     "name": "stderr",
     "output_type": "stream",
     "text": [
      "100%|██████████| 29001/29001 [00:00<00:00, 201757.20it/s]\n"
     ]
    },
    {
     "name": "stdout",
     "output_type": "stream",
     "text": [
      "Making De Vocab\n"
     ]
    },
    {
     "name": "stderr",
     "output_type": "stream",
     "text": [
      "100%|██████████| 29001/29001 [00:00<00:00, 188096.52it/s]\n"
     ]
    }
   ],
   "source": [
    "tokenized_en_data = []\n",
    "tokenized_de_data = []\n",
    "counter_en = collections.Counter()\n",
    "counter_de = collections.Counter()\n",
    "\n",
    "print('Start Tokenizing...')\n",
    "for de, en in tqdm(dataset_train):\n",
    "    tokens_de = tokenizer_en(de)\n",
    "    tokens_en = tokenizer_de(en)\n",
    "    tokenized_de_data.append(tokens_de)\n",
    "    tokenized_en_data.append(tokens_en)\n",
    "    \n",
    "print('Making En Vocab')\n",
    "for line in tqdm(tokenized_en_data):\n",
    "    counter_en.update(line)\n",
    "\n",
    "print('Making De Vocab')\n",
    "for line in tqdm(tokenized_de_data):\n",
    "    counter_de.update(line)\n",
    "\n",
    "vocab_en = torchtext.vocab.vocab(counter_en, min_freq=1, specials=[\"<unk>\", \"<pad>\", \"<sos>\", \"<eos>\"])\n",
    "vocab_de = torchtext.vocab.vocab(counter_de, min_freq=1, specials=[\"<unk>\", \"<pad>\", \"<sos>\", \"<eos>\"])\n",
    "\n",
    "\n"
   ]
  },
  {
   "cell_type": "code",
   "execution_count": 131,
   "metadata": {},
   "outputs": [],
   "source": [
    "class Multi30kDataset(Dataset):\n",
    "    def __init__(self, tokenized_src, tokenized_tgt, vocab_src, vocab_tgt, max_seq = 256):\n",
    "        self.src = []\n",
    "        self.tgt = []\n",
    "\n",
    "        for tokens in tqdm(tokenized_src, \"Src data\"):\n",
    "            token_ids = [vocab_src['<sos>']]\n",
    "            token_ids += [vocab_src[token] for token in tokens]\n",
    "            token_ids += [vocab_src['<eos>']]\n",
    "            self.src.append(token_ids)\n",
    "\n",
    "        for tokens in tqdm(tokenized_tgt, \"Tgt data\"):\n",
    "            token_ids = [vocab_tgt['<sos>']]\n",
    "            token_ids += [vocab_tgt[token] for token in tokens]\n",
    "            token_ids += [vocab_tgt['<eos>']]\n",
    "            self.tgt.append(token_ids)\n",
    "\n",
    "    def __len__(self):\n",
    "        return len(self.src)\n",
    "\n",
    "    def __getitem__(self, idx):\n",
    "        return torch.tensor(self.src[idx]), torch.tensor(self.tgt[idx])\n",
    "        \n"
   ]
  },
  {
   "cell_type": "code",
   "execution_count": 132,
   "metadata": {},
   "outputs": [
    {
     "name": "stderr",
     "output_type": "stream",
     "text": [
      "Src data: 100%|██████████| 29001/29001 [00:00<00:00, 62651.37it/s]\n",
      "Tgt data: 100%|██████████| 29001/29001 [00:00<00:00, 62425.24it/s]\n"
     ]
    }
   ],
   "source": [
    "multi30k_dataset = Multi30kDataset(tokenized_de_data, tokenized_en_data, vocab_de, vocab_en)"
   ]
  },
  {
   "cell_type": "code",
   "execution_count": 133,
   "metadata": {},
   "outputs": [],
   "source": [
    "train_ratio = 0.8\n",
    "train_size = int(train_ratio*len(multi30k_dataset))\n",
    "valid_size = len(multi30k_dataset) - train_size\n",
    "train_dataset, valid_dataset = random_split(multi30k_dataset, [train_size, valid_size])"
   ]
  },
  {
   "cell_type": "code",
   "execution_count": 134,
   "metadata": {},
   "outputs": [],
   "source": [
    "#Query: decoder_hidden\n",
    "#Key: encoder_outputs\n",
    "#Value: encoder_outputs\n",
    "class Attention(nn.Module):\n",
    "    def __init__(self):\n",
    "        super().__init__()\n",
    "    \n",
    "    def forward(self, decoder_hiddens, encoder_outputs):\n",
    "        #decoder_hiddens: [batch_size, 1, decoder_hidden]\n",
    "        #encoder_outputs: [batch_size, sentence_length, decoder_hidden]\n",
    "        Q = decoder_hiddens\n",
    "        K = encoder_outputs\n",
    "\n",
    "        energy = torch.sum(torch.mul(Q,K), dim=-1)\n",
    "        #energy: [batch_size, sentence_length]\n",
    "        attn_scores = F.softmax(energy, dim=-1)\n",
    "        #attn_scores: [batch_size, sentence_length]\n",
    "        attn_values = torch.sum(torch.mul(K, attn_scores.unsqueeze(2)), dim=1)\n",
    "        #attn_values: [batch_size, decoder_hidden]\n",
    "        return  attn_values"
   ]
  },
  {
   "cell_type": "code",
   "execution_count": 135,
   "metadata": {},
   "outputs": [],
   "source": [
    "#Ref: https://github.com/bentrevett/pytorch-seq2seq/blob/master/1%20-%20Sequence%20to%20Sequence%20Learning%20with%20Neural%20Networks.ipynb\n",
    "class Encoder(nn.Module):\n",
    "    def __init__(self, vocab_size, embedding_size, hidden_size):\n",
    "        super().__init__()\n",
    "        self.embedding = nn.Embedding(vocab_size, embedding_size)\n",
    "        self.lstm = nn.LSTM(embedding_size, hidden_size, batch_first=True)\n",
    "    def forward(self, input):\n",
    "\n",
    "        input = self.embedding(input)\n",
    "        #input: [batch_size, sentence_len, emb_size]\n",
    "\n",
    "        outputs, (hidden, cell) = self.lstm(input)\n",
    "\n",
    "        return outputs, (hidden, cell)"
   ]
  },
  {
   "cell_type": "code",
   "execution_count": 136,
   "metadata": {},
   "outputs": [],
   "source": [
    "class Decoder(nn.Module):\n",
    "    def __init__(self, vocab_size, embedding_size, hidden_size):\n",
    "        super().__init__()\n",
    "        self.vocab_size = vocab_size\n",
    "        self.embedding = nn.Embedding(vocab_size, embedding_size)\n",
    "        self.attention = Attention()\n",
    "        self.lstm = nn.LSTM(embedding_size, hidden_size, batch_first=True)\n",
    "        self.out = nn.Linear(2*hidden_size, vocab_size)\n",
    "\n",
    "    def forward(self, input, hidden, cell, encoder_outputs):\n",
    "        #input: [batch_size]\n",
    "        input = input.unsqueeze(1)\n",
    "        #input: [batch_size, 1]\n",
    "        input = self.embedding(input)\n",
    "        #input: [batch_size, 1, emb_size]\n",
    "        output ,(hidden,cell) = self.lstm(input, (hidden, cell))\n",
    "        #output: [batch_size, 1, hidden_size]\n",
    "        #hidden: [1, batch_size, hidden_size]\n",
    "        attn_values = self.attention(hidden.transpose(0,1), encoder_outputs)\n",
    "        #attn_values: [batch_size, decoder_hidden]\n",
    "        attn_values = attn_values.unsqueeze(1)\n",
    "        #attn_values: [batch_size, 1, decoder_hidden]\n",
    "\n",
    "        concat_output = torch.cat((output, attn_values), dim=-1)\n",
    "        #concat_output: [batch_size, 1, 2 * decoder_hidden]\n",
    "        \n",
    "        prediction = self.out(concat_output.squeeze(1))\n",
    "        #prediction: [batch_size, output_size]\n",
    "        return prediction, (hidden, cell)\n"
   ]
  },
  {
   "cell_type": "code",
   "execution_count": 137,
   "metadata": {},
   "outputs": [],
   "source": [
    "class Seq2Seq(nn.Module):\n",
    "    def __init__(self, encoder, decoder, device):\n",
    "        super().__init__()\n",
    "        self.encoder = encoder\n",
    "        self.decoder = decoder\n",
    "        self.device = device\n",
    "\n",
    "    def forward(self, src, tgt, teacher_forcing_ratio= 0.5):\n",
    "        batch_size, tgt_len = tgt.size()\n",
    "        tgt_vocab_size = self.decoder.vocab_size\n",
    "\n",
    "        outputs = torch.zeros(tgt_len, batch_size, tgt_vocab_size).to(self.device)\n",
    "\n",
    "        encoder_outputs, (hidden, cell) = self.encoder(src)\n",
    "        input = tgt[:,0]\n",
    "        for t in range(1, tgt_len):\n",
    "            output, (hidden, cell) = self.decoder(input, hidden, cell,encoder_outputs)\n",
    "            outputs[t] = output\n",
    "            top1 = output.argmax(1)\n",
    "\n",
    "            is_teacher_forcing = random.random() < teacher_forcing_ratio\n",
    "\n",
    "            input = tgt[:,t] if is_teacher_forcing else top1\n",
    "            #outputs: [tgt_len, batch_size, output_size]\n",
    "        \n",
    "        outputs = outputs.transpose(0,1)\n",
    "        #outputs: [batch_size, tgt_len, output_size]\n",
    "        return outputs\n",
    "        \n",
    "\n",
    "\n",
    "\n",
    "\n"
   ]
  },
  {
   "cell_type": "code",
   "execution_count": 138,
   "metadata": {},
   "outputs": [],
   "source": [
    "device = torch.device('cuda') if torch.cuda.is_available() else torch.device('cpu')"
   ]
  },
  {
   "cell_type": "code",
   "execution_count": 139,
   "metadata": {},
   "outputs": [],
   "source": [
    "batch_size=256\n",
    "learning_rate = 0.001\n",
    "num_epochs = 10"
   ]
  },
  {
   "cell_type": "code",
   "execution_count": 140,
   "metadata": {},
   "outputs": [],
   "source": [
    "def pad_collate_fn(batch):\n",
    "    collate_x = []\n",
    "    collate_y = []\n",
    "    for src, tgt in batch:\n",
    "        collate_x.append(src)\n",
    "        collate_y.append(tgt)\n",
    "    collate_x = nn.utils.rnn.pad_sequence(collate_x, padding_value=vocab_de['<pad>'], batch_first=True)\n",
    "    collate_y = nn.utils.rnn.pad_sequence(collate_y, padding_value=vocab_en['<pad>'], batch_first=True)\n",
    "    return (collate_x, collate_y)"
   ]
  },
  {
   "cell_type": "code",
   "execution_count": 141,
   "metadata": {},
   "outputs": [],
   "source": [
    "train_dataloader = DataLoader(train_dataset, batch_size=batch_size, shuffle=True, collate_fn= pad_collate_fn)\n",
    "valid_dataloader = DataLoader(valid_dataset, batch_size=batch_size, shuffle=False, collate_fn= pad_collate_fn)"
   ]
  },
  {
   "cell_type": "code",
   "execution_count": 142,
   "metadata": {},
   "outputs": [],
   "source": [
    "encoder = Encoder(vocab_size = len(vocab_de), embedding_size=256, hidden_size=512)\n",
    "decoder = Decoder(vocab_size = len(vocab_en), embedding_size=256, hidden_size=512)\n",
    "model = Seq2Seq(encoder, decoder, device).to(device)"
   ]
  },
  {
   "cell_type": "code",
   "execution_count": 143,
   "metadata": {},
   "outputs": [],
   "source": [
    "optimizer = torch.optim.Adam(model.parameters(), lr=learning_rate)\n",
    "criterion = nn.CrossEntropyLoss(ignore_index = vocab_en['<pad>'])"
   ]
  },
  {
   "cell_type": "code",
   "execution_count": 144,
   "metadata": {},
   "outputs": [],
   "source": [
    "def train(dataloader, epoch):\n",
    "    model.train()\n",
    "    epoch_loss = 0\n",
    "    epoch_acc = 0\n",
    "    data_num = 0\n",
    "    for src,tgt in tqdm(dataloader, desc=f\"Epoch {epoch}\"):\n",
    "        src, tgt = src.to(device), tgt.to(device)\n",
    "        outputs = model(src, tgt)\n",
    "        #outputs: [batch_size, tgt_len, output_size]\n",
    "        #tgt: [batch_size, tgt_len, output_size]\n",
    "        output_size = outputs.shape[-1]\n",
    "        \n",
    "        output = outputs.reshape(-1,output_size)\n",
    "        #output: [(tgt_len - 1) * batch_size, output_size]\n",
    "        tgt = tgt.reshape(-1)\n",
    "        #tgt: [(tgt_len - 1) * batch_size]\n",
    "\n",
    "        optimizer.zero_grad()\n",
    "        loss = criterion(output, tgt)\n",
    "        loss.backward()\n",
    "        optimizer.step()\n",
    "        epoch_loss += loss.item()\n",
    "        data_num += src.size(0)\n",
    "\n",
    "    print(f\"Train Epoch: {epoch}, Loss: {epoch_loss/len(dataloader)}, PPL: {math.exp(epoch_loss/len(dataloader))}\")\n"
   ]
  },
  {
   "cell_type": "code",
   "execution_count": 145,
   "metadata": {},
   "outputs": [],
   "source": [
    "def evaluate(dataloader, epoch):\n",
    "    model.eval()\n",
    "    epoch_loss = 0\n",
    "    epoch_acc = 0\n",
    "    data_num = 0\n",
    "    for src,tgt in tqdm(dataloader, desc=f\"Epoch {epoch}\"):\n",
    "        src, tgt = src.to(device), tgt.to(device)\n",
    "        outputs = model(src, tgt, 0)\n",
    "        #outputs: [batch_size, tgt_len, output_size]\n",
    "        #tgt: [batch_size, tgt_len, output_size]\n",
    "        output_size = outputs.shape[-1]\n",
    "        output = outputs.reshape(-1,output_size)\n",
    "        #output: [(tgt_len - 1) * batch_size, output_size]\n",
    "        tgt = tgt.reshape(-1)\n",
    "        #tgt: [(tgt_len - 1) * batch_size]\n",
    "\n",
    "        loss = criterion(output, tgt)\n",
    "        epoch_loss += loss.item()\n",
    "        data_num += src.size(0)\n",
    "\n",
    "    print(f\"Evaluate Epoch: {epoch}, Loss: {epoch_loss/len(dataloader)}, PPL: {math.exp(epoch_loss/len(dataloader))}\")\n"
   ]
  },
  {
   "cell_type": "code",
   "execution_count": 146,
   "metadata": {},
   "outputs": [
    {
     "name": "stderr",
     "output_type": "stream",
     "text": [
      "Epoch 0: 100%|██████████| 91/91 [00:46<00:00,  1.97it/s]\n"
     ]
    },
    {
     "name": "stdout",
     "output_type": "stream",
     "text": [
      "Train Epoch: 0, Loss: 5.538500953506637, PPL: 254.29651130220927\n"
     ]
    },
    {
     "name": "stderr",
     "output_type": "stream",
     "text": [
      "Epoch 0: 100%|██████████| 23/23 [00:05<00:00,  4.29it/s]\n"
     ]
    },
    {
     "name": "stdout",
     "output_type": "stream",
     "text": [
      "Evaluate Epoch: 0, Loss: 5.379855114480724, PPL: 216.99083431761358\n",
      "--------------------------------------------------\n"
     ]
    },
    {
     "name": "stderr",
     "output_type": "stream",
     "text": [
      "Epoch 1: 100%|██████████| 91/91 [00:47<00:00,  1.92it/s]\n"
     ]
    },
    {
     "name": "stdout",
     "output_type": "stream",
     "text": [
      "Train Epoch: 1, Loss: 4.754146051930857, PPL: 116.06449777987498\n"
     ]
    },
    {
     "name": "stderr",
     "output_type": "stream",
     "text": [
      "Epoch 1: 100%|██████████| 23/23 [00:05<00:00,  4.16it/s]\n"
     ]
    },
    {
     "name": "stdout",
     "output_type": "stream",
     "text": [
      "Evaluate Epoch: 1, Loss: 5.030419370402461, PPL: 152.99716172486038\n",
      "--------------------------------------------------\n"
     ]
    },
    {
     "name": "stderr",
     "output_type": "stream",
     "text": [
      "Epoch 2: 100%|██████████| 91/91 [00:46<00:00,  1.95it/s]\n"
     ]
    },
    {
     "name": "stdout",
     "output_type": "stream",
     "text": [
      "Train Epoch: 2, Loss: 4.212612325018579, PPL: 67.53272701315136\n"
     ]
    },
    {
     "name": "stderr",
     "output_type": "stream",
     "text": [
      "Epoch 2: 100%|██████████| 23/23 [00:05<00:00,  4.10it/s]\n"
     ]
    },
    {
     "name": "stdout",
     "output_type": "stream",
     "text": [
      "Evaluate Epoch: 2, Loss: 4.6819741829581885, PPL: 107.9830405617939\n",
      "--------------------------------------------------\n"
     ]
    },
    {
     "name": "stderr",
     "output_type": "stream",
     "text": [
      "Epoch 3: 100%|██████████| 91/91 [00:46<00:00,  1.96it/s]\n"
     ]
    },
    {
     "name": "stdout",
     "output_type": "stream",
     "text": [
      "Train Epoch: 3, Loss: 3.7573107310703824, PPL: 42.833081277179446\n"
     ]
    },
    {
     "name": "stderr",
     "output_type": "stream",
     "text": [
      "Epoch 3: 100%|██████████| 23/23 [00:05<00:00,  4.23it/s]\n"
     ]
    },
    {
     "name": "stdout",
     "output_type": "stream",
     "text": [
      "Evaluate Epoch: 3, Loss: 4.508318880329961, PPL: 90.76909646098467\n",
      "--------------------------------------------------\n"
     ]
    },
    {
     "name": "stderr",
     "output_type": "stream",
     "text": [
      "Epoch 4: 100%|██████████| 91/91 [00:46<00:00,  1.97it/s]\n"
     ]
    },
    {
     "name": "stdout",
     "output_type": "stream",
     "text": [
      "Train Epoch: 4, Loss: 3.4627742086138045, PPL: 31.905365993718142\n"
     ]
    },
    {
     "name": "stderr",
     "output_type": "stream",
     "text": [
      "Epoch 4: 100%|██████████| 23/23 [00:05<00:00,  4.50it/s]\n"
     ]
    },
    {
     "name": "stdout",
     "output_type": "stream",
     "text": [
      "Evaluate Epoch: 4, Loss: 4.430466817772907, PPL: 83.97060673392924\n",
      "--------------------------------------------------\n"
     ]
    },
    {
     "name": "stderr",
     "output_type": "stream",
     "text": [
      "Epoch 5: 100%|██████████| 91/91 [00:44<00:00,  2.02it/s]\n"
     ]
    },
    {
     "name": "stdout",
     "output_type": "stream",
     "text": [
      "Train Epoch: 5, Loss: 3.177011618247399, PPL: 23.97499993953258\n"
     ]
    },
    {
     "name": "stderr",
     "output_type": "stream",
     "text": [
      "Epoch 5: 100%|██████████| 23/23 [00:05<00:00,  4.47it/s]\n"
     ]
    },
    {
     "name": "stdout",
     "output_type": "stream",
     "text": [
      "Evaluate Epoch: 5, Loss: 4.3419154208639394, PPL: 76.85460736318322\n",
      "--------------------------------------------------\n"
     ]
    },
    {
     "name": "stderr",
     "output_type": "stream",
     "text": [
      "Epoch 6: 100%|██████████| 91/91 [00:44<00:00,  2.03it/s]\n"
     ]
    },
    {
     "name": "stdout",
     "output_type": "stream",
     "text": [
      "Train Epoch: 6, Loss: 2.9562604139139363, PPL: 19.22594009707434\n"
     ]
    },
    {
     "name": "stderr",
     "output_type": "stream",
     "text": [
      "Epoch 6: 100%|██████████| 23/23 [00:05<00:00,  4.23it/s]\n"
     ]
    },
    {
     "name": "stdout",
     "output_type": "stream",
     "text": [
      "Evaluate Epoch: 6, Loss: 4.306499584861424, PPL: 74.18037185043445\n",
      "--------------------------------------------------\n"
     ]
    },
    {
     "name": "stderr",
     "output_type": "stream",
     "text": [
      "Epoch 7: 100%|██████████| 91/91 [00:44<00:00,  2.03it/s]\n"
     ]
    },
    {
     "name": "stdout",
     "output_type": "stream",
     "text": [
      "Train Epoch: 7, Loss: 2.757489115327269, PPL: 15.76022112849648\n"
     ]
    },
    {
     "name": "stderr",
     "output_type": "stream",
     "text": [
      "Epoch 7: 100%|██████████| 23/23 [00:05<00:00,  4.16it/s]\n"
     ]
    },
    {
     "name": "stdout",
     "output_type": "stream",
     "text": [
      "Evaluate Epoch: 7, Loss: 4.279578727224599, PPL: 72.21001348604977\n",
      "--------------------------------------------------\n"
     ]
    },
    {
     "name": "stderr",
     "output_type": "stream",
     "text": [
      "Epoch 8: 100%|██████████| 91/91 [00:47<00:00,  1.93it/s]\n"
     ]
    },
    {
     "name": "stdout",
     "output_type": "stream",
     "text": [
      "Train Epoch: 8, Loss: 2.612686733623127, PPL: 13.635637005613704\n"
     ]
    },
    {
     "name": "stderr",
     "output_type": "stream",
     "text": [
      "Epoch 8: 100%|██████████| 23/23 [00:05<00:00,  3.94it/s]\n"
     ]
    },
    {
     "name": "stdout",
     "output_type": "stream",
     "text": [
      "Evaluate Epoch: 8, Loss: 4.309366951818052, PPL: 74.39337943702441\n",
      "--------------------------------------------------\n"
     ]
    },
    {
     "name": "stderr",
     "output_type": "stream",
     "text": [
      "Epoch 9: 100%|██████████| 91/91 [00:45<00:00,  1.99it/s]\n"
     ]
    },
    {
     "name": "stdout",
     "output_type": "stream",
     "text": [
      "Train Epoch: 9, Loss: 2.444383222978194, PPL: 11.523440013537298\n"
     ]
    },
    {
     "name": "stderr",
     "output_type": "stream",
     "text": [
      "Epoch 9: 100%|██████████| 23/23 [00:05<00:00,  4.49it/s]"
     ]
    },
    {
     "name": "stdout",
     "output_type": "stream",
     "text": [
      "Evaluate Epoch: 9, Loss: 4.2937089671259345, PPL: 73.23760123297254\n",
      "--------------------------------------------------\n"
     ]
    },
    {
     "name": "stderr",
     "output_type": "stream",
     "text": [
      "\n"
     ]
    }
   ],
   "source": [
    "\n",
    "for epoch in range(num_epochs):\n",
    "    train(train_dataloader, epoch)\n",
    "    evaluate(valid_dataloader, epoch)\n",
    "    print('-'*50)"
   ]
  },
  {
   "cell_type": "code",
   "execution_count": null,
   "metadata": {},
   "outputs": [],
   "source": []
  }
 ],
 "metadata": {
  "kernelspec": {
   "display_name": "Python 3 (ipykernel)",
   "language": "python",
   "name": "python3"
  },
  "language_info": {
   "codemirror_mode": {
    "name": "ipython",
    "version": 3
   },
   "file_extension": ".py",
   "mimetype": "text/x-python",
   "name": "python",
   "nbconvert_exporter": "python",
   "pygments_lexer": "ipython3",
   "version": "3.9.13"
  },
  "orig_nbformat": 4,
  "vscode": {
   "interpreter": {
    "hash": "f28fe8d6c9129943004dd44e208a3cea882e4cd3a42a08d2b666db063ef9019d"
   }
  }
 },
 "nbformat": 4,
 "nbformat_minor": 2
}
