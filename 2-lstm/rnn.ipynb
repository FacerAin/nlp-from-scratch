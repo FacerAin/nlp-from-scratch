{
 "cells": [
  {
   "cell_type": "markdown",
   "metadata": {},
   "source": [
    "### Introduction\n",
    "이번 챕터에서는 **rnn 모델을 활용하여 multiclass classification task를 해결**합니다.  \n",
    "사용할 데이터셋은 AG_NEWS입니다. 뉴스 기사를 보고 4개의 토픽('World', 'Sports', 'Business', 'Sci/Tech') 중 적절한 한개로 분류하여야합니다.\n"
   ]
  },
  {
   "cell_type": "code",
   "execution_count": null,
   "metadata": {},
   "outputs": [],
   "source": [
    "import urllib\n",
    "import os\n",
    "import collections\n",
    "import numpy as np\n",
    "from tqdm import tqdm\n",
    "import torch\n",
    "from torch import nn\n",
    "import torchtext\n",
    "from torch.utils.data import Dataset, DataLoader, random_split"
   ]
  },
  {
   "cell_type": "markdown",
   "metadata": {},
   "source": [
    "### Preparing dataset"
   ]
  },
  {
   "cell_type": "code",
   "execution_count": null,
   "metadata": {},
   "outputs": [],
   "source": [
    "os.makedirs('data', exist_ok=True)\n",
    "dataset_train, dataset_test = torchtext.datasets.AG_NEWS(root='./data')\n",
    "tokenizer = torchtext.data.utils.get_tokenizer('basic_english', language=\"en\")\n",
    "dataset_train = list(dataset_train)\n",
    "dataset_test = list(dataset_test)"
   ]
  },
  {
   "cell_type": "code",
   "execution_count": null,
   "metadata": {},
   "outputs": [],
   "source": [
    "tokenized_data = []\n",
    "label_data = []\n",
    "counter = collections.Counter()\n",
    "\n",
    "print('Start Tokenizing...')\n",
    "for label, line in tqdm(dataset_train):\n",
    "    tokens = tokenizer(line)\n",
    "    tokenized_data.append(tokens)\n",
    "    label_data.append(label-1)\n",
    "\n",
    "print('Making Vocab...')\n",
    "for line in tqdm(tokenized_data):\n",
    "    counter.update(line)\n",
    "\n",
    "vocab = torchtext.vocab.vocab(counter, min_freq=1, specials=[\"<unk>\", \"<pad>\"])\n",
    "vocab.set_default_index(vocab[\"<unk>\"])"
   ]
  },
  {
   "cell_type": "code",
   "execution_count": null,
   "metadata": {},
   "outputs": [],
   "source": [
    "class AGNewsDataset(Dataset):\n",
    "    def __init__(self, tokenized_data, label_data, max_seq = 256):\n",
    "        self.x = []\n",
    "        self.y = []\n",
    "        self.classes = ['World', 'Sports', 'Business', 'Sci/Tech']\n",
    "        \n",
    "        for tokens in tqdm(tokenized_data):\n",
    "            token_ids = [vocab[token] for token in tokens]\n",
    "            self.x.append(token_ids)\n",
    "        self.y = label_data\n",
    "        \n",
    "    def __len__(self):\n",
    "        return len(self.x)\n",
    "        \n",
    "    def __getitem__(self, idx):\n",
    "        return torch.tensor(self.x[idx]) , torch.tensor(self.y[idx])"
   ]
  },
  {
   "cell_type": "code",
   "execution_count": null,
   "metadata": {},
   "outputs": [],
   "source": [
    "news_dataset = AGNewsDataset(tokenized_data, label_data, max_seq=256)"
   ]
  },
  {
   "cell_type": "code",
   "execution_count": null,
   "metadata": {},
   "outputs": [],
   "source": [
    "train_ratio = 0.8\n",
    "train_size = int(train_ratio*len(news_dataset))\n",
    "valid_size = len(news_dataset) - train_size\n",
    "train_dataset, valid_dataset = random_split(news_dataset, [train_size, valid_size])"
   ]
  },
  {
   "cell_type": "markdown",
   "metadata": {},
   "source": [
    "### Making Model"
   ]
  },
  {
   "cell_type": "code",
   "execution_count": null,
   "metadata": {},
   "outputs": [],
   "source": [
    "class RNN(nn.Module):\n",
    "    def __init__(self, vocab_size, embedding_size, hidden_size, output_size):\n",
    "        super().__init__()\n",
    "        self.hidden_size = hidden_size\n",
    "        self.embedding = nn.Embedding(vocab_size, embedding_size)\n",
    "        self.rnn = nn.RNN(embedding_size, hidden_size, batch_first=True)\n",
    "        self.out =  nn.Linear(hidden_size, output_size)\n",
    "\n",
    "    def forward(self, input):\n",
    "        input = self.embedding(input)\n",
    "        #input: [batch_size, sentence_len, emb_size]\n",
    "        output, _ = self.rnn(input)\n",
    "        #output: [batch_size, sentence_len, hidden_size]\n",
    "        output = self.out(output)\n",
    "        #output: [batch_size, sentence_len, output_size]\n",
    "        output = output.transpose(1,0)\n",
    "        #output: [sentence_len, batch_size, output_size]\n",
    "        output = output[-1]\n",
    "        #output: [batch_size, output_size]\n",
    "\n",
    "        return output\n",
    "\n"
   ]
  },
  {
   "cell_type": "code",
   "execution_count": null,
   "metadata": {},
   "outputs": [],
   "source": [
    "model = RNN(vocab_size=len(vocab), embedding_size=64, hidden_size=32, output_size=len(news_dataset.classes))"
   ]
  },
  {
   "cell_type": "markdown",
   "metadata": {},
   "source": [
    "### Preparing for training"
   ]
  },
  {
   "cell_type": "code",
   "execution_count": null,
   "metadata": {},
   "outputs": [],
   "source": [
    "batch_size=256\n",
    "learning_rate = 0.001\n",
    "num_epochs = 10\n",
    "device = torch.device('cuda') if torch.cuda.is_available() else torch.device('cpu')"
   ]
  },
  {
   "cell_type": "code",
   "execution_count": null,
   "metadata": {},
   "outputs": [],
   "source": [
    "def pad_collate_fn(batch):\n",
    "    collate_x = []\n",
    "    collate_y = []\n",
    "    for data, label in batch:\n",
    "        collate_x.append(data)\n",
    "        collate_y.append(label)\n",
    "    collate_x = nn.utils.rnn.pad_sequence(collate_x, padding_value=vocab['<pad>'], batch_first=True)\n",
    "    collate_y = torch.stack(collate_y)\n",
    "    return (collate_x, collate_y)\n",
    "\n"
   ]
  },
  {
   "cell_type": "code",
   "execution_count": null,
   "metadata": {},
   "outputs": [],
   "source": [
    "train_dataloader = DataLoader(train_dataset, batch_size=batch_size, shuffle=True, collate_fn= pad_collate_fn)\n",
    "valid_dataloader = DataLoader(valid_dataset, batch_size=batch_size, shuffle=False, collate_fn= pad_collate_fn)"
   ]
  },
  {
   "cell_type": "code",
   "execution_count": null,
   "metadata": {},
   "outputs": [],
   "source": [
    "model = model.to(device)\n",
    "optimizer = torch.optim.Adam(model.parameters(), lr=learning_rate)\n",
    "criterion = nn.CrossEntropyLoss()"
   ]
  },
  {
   "cell_type": "code",
   "execution_count": null,
   "metadata": {},
   "outputs": [],
   "source": [
    "def accuracy(output, label):\n",
    "    pred = torch.argmax(output, dim=-1)\n",
    "    acc = torch.sum(pred==label)\n",
    "    return acc\n",
    "    "
   ]
  },
  {
   "cell_type": "markdown",
   "metadata": {},
   "source": [
    "### Training"
   ]
  },
  {
   "cell_type": "code",
   "execution_count": null,
   "metadata": {},
   "outputs": [],
   "source": [
    "def train(dataloader, epoch):\n",
    "    model.train()\n",
    "    epoch_loss = 0\n",
    "    epoch_acc = 0\n",
    "    data_num = 0\n",
    "    for data,label in tqdm(dataloader, desc=f\"Epoch {epoch}\"):\n",
    "        data, label = data.to(device), label.to(device)\n",
    "        output = model(data)\n",
    "        optimizer.zero_grad()\n",
    "        loss = criterion(output, label)\n",
    "        acc = accuracy(output, label)\n",
    "        loss.backward()\n",
    "        optimizer.step()\n",
    "        epoch_loss += loss.item()\n",
    "        epoch_acc += acc.item()\n",
    "        data_num += data.size(0)\n",
    "\n",
    "    print(f\"Train Epoch: {epoch}, Loss: {epoch_loss/len(dataloader)}, Acc: {epoch_acc/data_num}\")\n"
   ]
  },
  {
   "cell_type": "code",
   "execution_count": null,
   "metadata": {},
   "outputs": [],
   "source": [
    "def evaluate(dataloader, epoch):\n",
    "    model.eval()\n",
    "    epoch_loss = 0\n",
    "    epoch_acc = 0\n",
    "    data_num = 0\n",
    "    with torch.no_grad():\n",
    "        for data,label in tqdm(dataloader, desc=f\"Epoch {epoch}\"):\n",
    "            data, label = data.to(device), label.to(device)\n",
    "            output = model(data)\n",
    "            loss = criterion(output, label)\n",
    "            acc = accuracy(output, label)\n",
    "            epoch_loss += loss.item()\n",
    "            epoch_acc += acc.item()\n",
    "            data_num += data.size(0)\n",
    "\n",
    "    print(f\"Evaluate Epoch: {epoch}, Loss: {epoch_loss/len(dataloader)}, Acc: {epoch_acc/data_num}\")\n",
    "    return epoch_acc/data_num"
   ]
  },
  {
   "cell_type": "code",
   "execution_count": null,
   "metadata": {},
   "outputs": [],
   "source": [
    "total_acc = 0\n",
    "best_acc = 0\n",
    "for epoch in range(num_epochs):\n",
    "    train(train_dataloader, epoch)\n",
    "    acc = evaluate(valid_dataloader, epoch)\n",
    "    best_acc = max(acc, best_acc)\n",
    "    print('-'*50)\n",
    "\n",
    "print(f\"Best Accuracy: {best_acc}\")\n",
    "\n"
   ]
  },
  {
   "cell_type": "markdown",
   "metadata": {},
   "source": [
    "### Testing Model"
   ]
  },
  {
   "cell_type": "code",
   "execution_count": null,
   "metadata": {},
   "outputs": [],
   "source": [
    "#TBA"
   ]
  }
 ],
 "metadata": {
  "kernelspec": {
   "display_name": "Python 3 (ipykernel)",
   "language": "python",
   "name": "python3"
  },
  "language_info": {
   "codemirror_mode": {
    "name": "ipython",
    "version": 3
   },
   "file_extension": ".py",
   "mimetype": "text/x-python",
   "name": "python",
   "nbconvert_exporter": "python",
   "pygments_lexer": "ipython3",
   "version": "3.9.13"
  },
  "orig_nbformat": 4,
  "vscode": {
   "interpreter": {
    "hash": "f28fe8d6c9129943004dd44e208a3cea882e4cd3a42a08d2b666db063ef9019d"
   }
  }
 },
 "nbformat": 4,
 "nbformat_minor": 2
}
