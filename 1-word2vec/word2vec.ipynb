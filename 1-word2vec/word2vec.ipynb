{
 "cells": [
  {
   "cell_type": "code",
   "execution_count": 187,
   "metadata": {
    "execution": {
     "iopub.execute_input": "2022-10-12T11:14:21.117058Z",
     "iopub.status.busy": "2022-10-12T11:14:21.116231Z",
     "iopub.status.idle": "2022-10-12T11:14:26.392315Z",
     "shell.execute_reply": "2022-10-12T11:14:26.391408Z",
     "shell.execute_reply.started": "2022-10-12T11:14:21.116974Z"
    }
   },
   "outputs": [
    {
     "name": "stdout",
     "output_type": "stream",
     "text": [
      "Requirement already satisfied: torchtext in /usr/local/lib/python3.9/dist-packages (0.13.1)\n",
      "Requirement already satisfied: requests in /usr/local/lib/python3.9/dist-packages (from torchtext) (2.28.1)\n",
      "Requirement already satisfied: numpy in /usr/local/lib/python3.9/dist-packages (from torchtext) (1.23.1)\n",
      "Requirement already satisfied: tqdm in /usr/local/lib/python3.9/dist-packages (from torchtext) (4.64.0)\n",
      "Requirement already satisfied: torch==1.12.1 in /usr/local/lib/python3.9/dist-packages (from torchtext) (1.12.1)\n",
      "Requirement already satisfied: typing-extensions in /usr/local/lib/python3.9/dist-packages (from torch==1.12.1->torchtext) (4.3.0)\n",
      "Requirement already satisfied: idna<4,>=2.5 in /usr/lib/python3/dist-packages (from requests->torchtext) (2.8)\n",
      "Requirement already satisfied: charset-normalizer<3,>=2 in /usr/local/lib/python3.9/dist-packages (from requests->torchtext) (2.1.0)\n",
      "Requirement already satisfied: urllib3<1.27,>=1.21.1 in /usr/local/lib/python3.9/dist-packages (from requests->torchtext) (1.26.10)\n",
      "Requirement already satisfied: certifi>=2017.4.17 in /usr/lib/python3/dist-packages (from requests->torchtext) (2019.11.28)\n",
      "\u001b[33mWARNING: Running pip as the 'root' user can result in broken permissions and conflicting behaviour with the system package manager. It is recommended to use a virtual environment instead: https://pip.pypa.io/warnings/venv\u001b[0m\u001b[33m\n",
      "\u001b[0mRequirement already satisfied: torchdata in /usr/local/lib/python3.9/dist-packages (0.4.1)\n",
      "Requirement already satisfied: portalocker>=2.0.0 in /usr/local/lib/python3.9/dist-packages (from torchdata) (2.5.1)\n",
      "Requirement already satisfied: urllib3>=1.25 in /usr/local/lib/python3.9/dist-packages (from torchdata) (1.26.10)\n",
      "Requirement already satisfied: requests in /usr/local/lib/python3.9/dist-packages (from torchdata) (2.28.1)\n",
      "Requirement already satisfied: torch==1.12.1 in /usr/local/lib/python3.9/dist-packages (from torchdata) (1.12.1)\n",
      "Requirement already satisfied: typing-extensions in /usr/local/lib/python3.9/dist-packages (from torch==1.12.1->torchdata) (4.3.0)\n",
      "Requirement already satisfied: idna<4,>=2.5 in /usr/lib/python3/dist-packages (from requests->torchdata) (2.8)\n",
      "Requirement already satisfied: charset-normalizer<3,>=2 in /usr/local/lib/python3.9/dist-packages (from requests->torchdata) (2.1.0)\n",
      "Requirement already satisfied: certifi>=2017.4.17 in /usr/lib/python3/dist-packages (from requests->torchdata) (2019.11.28)\n",
      "\u001b[33mWARNING: Running pip as the 'root' user can result in broken permissions and conflicting behaviour with the system package manager. It is recommended to use a virtual environment instead: https://pip.pypa.io/warnings/venv\u001b[0m\u001b[33m\n",
      "\u001b[0m"
     ]
    }
   ],
   "source": [
    "#For Colab Env\n",
    "!pip install torchtext\n",
    "!pip install torchdata"
   ]
  },
  {
   "cell_type": "code",
   "execution_count": 188,
   "metadata": {
    "execution": {
     "iopub.execute_input": "2022-10-12T11:14:26.396799Z",
     "iopub.status.busy": "2022-10-12T11:14:26.396564Z",
     "iopub.status.idle": "2022-10-12T11:14:27.645853Z",
     "shell.execute_reply": "2022-10-12T11:14:27.644740Z",
     "shell.execute_reply.started": "2022-10-12T11:14:26.396776Z"
    }
   },
   "outputs": [],
   "source": [
    "#Ref: https://github.com/OlgaChernytska/word2vec-pytorch\n",
    "import urllib\n",
    "import os\n",
    "import collections\n",
    "import numpy as np\n",
    "from tqdm import tqdm\n",
    "import torch\n",
    "from torch import nn\n",
    "import torchtext\n",
    "from torch.utils.data import Dataset, DataLoader\n",
    "\n"
   ]
  },
  {
   "cell_type": "markdown",
   "metadata": {},
   "source": [
    "### Preparing Data"
   ]
  },
  {
   "cell_type": "code",
   "execution_count": 189,
   "metadata": {
    "execution": {
     "iopub.execute_input": "2022-10-12T11:23:44.288563Z",
     "iopub.status.busy": "2022-10-12T11:23:44.288228Z",
     "iopub.status.idle": "2022-10-12T11:23:45.731555Z",
     "shell.execute_reply": "2022-10-12T11:23:45.730814Z",
     "shell.execute_reply.started": "2022-10-12T11:23:44.288538Z"
    }
   },
   "outputs": [],
   "source": [
    "os.makedirs('data', exist_ok=True)\n",
    "dataset_train = torchtext.datasets.WikiText2(root='./data')\n",
    "tokenizer = torchtext.data.utils.get_tokenizer('basic_english', language=\"en\")\n",
    "dataset_train = list(dataset_train[0])"
   ]
  },
  {
   "cell_type": "code",
   "execution_count": 190,
   "metadata": {
    "execution": {
     "iopub.execute_input": "2022-10-12T11:23:46.510670Z",
     "iopub.status.busy": "2022-10-12T11:23:46.509849Z",
     "iopub.status.idle": "2022-10-12T11:23:46.781308Z",
     "shell.execute_reply": "2022-10-12T11:23:46.780611Z",
     "shell.execute_reply.started": "2022-10-12T11:23:46.510637Z"
    }
   },
   "outputs": [
    {
     "name": "stdout",
     "output_type": "stream",
     "text": [
      "Start Tokenizing...\n"
     ]
    },
    {
     "name": "stderr",
     "output_type": "stream",
     "text": [
      "100%|██████████| 36718/36718 [00:01<00:00, 33441.01it/s]\n"
     ]
    },
    {
     "name": "stdout",
     "output_type": "stream",
     "text": [
      "Making Vocab...\n"
     ]
    },
    {
     "name": "stderr",
     "output_type": "stream",
     "text": [
      "100%|██████████| 36718/36718 [00:00<00:00, 134035.79it/s]\n"
     ]
    }
   ],
   "source": [
    "tokenized_data = []\n",
    "counter = collections.Counter()\n",
    "\n",
    "print('Start Tokenizing...')\n",
    "for line in tqdm(dataset_train):\n",
    "    tokens = tokenizer(line)\n",
    "    tokenized_data.append(tokens)\n",
    "\n",
    "print('Making Vocab...')\n",
    "for line in tqdm(tokenized_data):\n",
    "    counter.update(line)\n",
    "\n",
    "vocab = torchtext.vocab.vocab(counter, min_freq=50, specials=[\"<unk>\"])\n",
    "vocab.set_default_index(vocab[\"<unk>\"])\n"
   ]
  },
  {
   "cell_type": "code",
   "execution_count": 191,
   "metadata": {
    "execution": {
     "iopub.execute_input": "2022-10-12T11:23:48.128660Z",
     "iopub.status.busy": "2022-10-12T11:23:48.127872Z",
     "iopub.status.idle": "2022-10-12T11:23:48.134802Z",
     "shell.execute_reply": "2022-10-12T11:23:48.134041Z",
     "shell.execute_reply.started": "2022-10-12T11:23:48.128628Z"
    }
   },
   "outputs": [],
   "source": [
    "class CBOWDataset(Dataset):\n",
    "    def __init__(self, tokenized_data, window_size = 2, max_seq = 256):\n",
    "        self.x = []\n",
    "        self.y = []\n",
    "        \n",
    "        for tokens in tqdm(tokenized_data):\n",
    "            token_ids = [vocab[token] for token in tokens]\n",
    "            token_ids = token_ids[:max_seq]\n",
    "            for i, token_id in enumerate(token_ids):\n",
    "                if i-window_size >= 0 and i+window_size < len(token_ids):\n",
    "                    self.x.append(token_ids[i-window_size:i] + token_ids[i+1:i+window_size+1])\n",
    "                    self.y.append(token_id)\n",
    "        self.x = torch.LongTensor(self.x)\n",
    "        self.y = torch.LongTensor(self.y)\n",
    "        \n",
    "    def __len__(self):\n",
    "        return len(self.x)\n",
    "    def __getitem__(self, idx):\n",
    "        return self.x[idx] , self.y[idx]"
   ]
  },
  {
   "cell_type": "code",
   "execution_count": 192,
   "metadata": {
    "execution": {
     "iopub.execute_input": "2022-10-12T11:23:48.608376Z",
     "iopub.status.busy": "2022-10-12T11:23:48.608040Z",
     "iopub.status.idle": "2022-10-12T11:23:48.621964Z",
     "shell.execute_reply": "2022-10-12T11:23:48.621136Z",
     "shell.execute_reply.started": "2022-10-12T11:23:48.608349Z"
    }
   },
   "outputs": [
    {
     "name": "stdout",
     "output_type": "stream",
     "text": [
      "Making CBOW Dataset\n"
     ]
    },
    {
     "name": "stderr",
     "output_type": "stream",
     "text": [
      "100%|██████████| 36718/36718 [00:05<00:00, 6492.31it/s] \n"
     ]
    }
   ],
   "source": [
    "print('Making CBOW Dataset')\n",
    "cbow_dataset = CBOWDataset(tokenized_data, window_size = 4)\n"
   ]
  },
  {
   "cell_type": "code",
   "execution_count": 193,
   "metadata": {
    "execution": {
     "iopub.execute_input": "2022-10-12T11:23:48.982047Z",
     "iopub.status.busy": "2022-10-12T11:23:48.981276Z",
     "iopub.status.idle": "2022-10-12T11:23:48.986841Z",
     "shell.execute_reply": "2022-10-12T11:23:48.986020Z",
     "shell.execute_reply.started": "2022-10-12T11:23:48.982016Z"
    }
   },
   "outputs": [],
   "source": [
    "class CBOW(nn.Module):\n",
    "    def __init__(self, vocab_size, emb_size):\n",
    "        super().__init__()\n",
    "        self.embedding = nn.Embedding(vocab_size, emb_size, sparse=True)\n",
    "        self.linear = nn.Linear(emb_size, vocab_size)\n",
    "    \n",
    "    def forward(self, x):\n",
    "        emb = torch.sum(self.embedding(x), dim=1)\n",
    "        output = self.linear(emb)\n",
    "        return output\n",
    "\n",
    "\n",
    "        "
   ]
  },
  {
   "cell_type": "code",
   "execution_count": 194,
   "metadata": {
    "execution": {
     "iopub.execute_input": "2022-10-12T11:23:49.352809Z",
     "iopub.status.busy": "2022-10-12T11:23:49.351870Z",
     "iopub.status.idle": "2022-10-12T11:23:49.357266Z",
     "shell.execute_reply": "2022-10-12T11:23:49.356454Z",
     "shell.execute_reply.started": "2022-10-12T11:23:49.352778Z"
    }
   },
   "outputs": [],
   "source": [
    "cbow_model = CBOW(vocab_size=len(vocab), emb_size=300)"
   ]
  },
  {
   "cell_type": "code",
   "execution_count": 195,
   "metadata": {
    "execution": {
     "iopub.execute_input": "2022-10-12T11:23:58.840957Z",
     "iopub.status.busy": "2022-10-12T11:23:58.839851Z",
     "iopub.status.idle": "2022-10-12T11:23:58.844968Z",
     "shell.execute_reply": "2022-10-12T11:23:58.844144Z",
     "shell.execute_reply.started": "2022-10-12T11:23:58.840925Z"
    }
   },
   "outputs": [],
   "source": [
    "batch_size=256\n",
    "learning_rate = 0.025\n",
    "num_epochs = 5\n",
    "device = torch.device('cuda') if torch.cuda.is_available() else torch.device('cpu')"
   ]
  },
  {
   "cell_type": "code",
   "execution_count": 196,
   "metadata": {
    "execution": {
     "iopub.execute_input": "2022-10-12T11:23:59.170807Z",
     "iopub.status.busy": "2022-10-12T11:23:59.170019Z",
     "iopub.status.idle": "2022-10-12T11:23:59.174746Z",
     "shell.execute_reply": "2022-10-12T11:23:59.173868Z",
     "shell.execute_reply.started": "2022-10-12T11:23:59.170777Z"
    }
   },
   "outputs": [],
   "source": [
    "cbow_dataloader = DataLoader(cbow_dataset, batch_size=batch_size, shuffle=True)"
   ]
  },
  {
   "cell_type": "code",
   "execution_count": 197,
   "metadata": {
    "execution": {
     "iopub.execute_input": "2022-10-12T11:23:59.440767Z",
     "iopub.status.busy": "2022-10-12T11:23:59.439748Z",
     "iopub.status.idle": "2022-10-12T11:23:59.445688Z",
     "shell.execute_reply": "2022-10-12T11:23:59.444750Z",
     "shell.execute_reply.started": "2022-10-12T11:23:59.440736Z"
    }
   },
   "outputs": [],
   "source": [
    "cbow_model.train()\n",
    "cbow_model = cbow_model.to(device)\n",
    "optimizer = torch.optim.SGD(cbow_model.parameters(), lr=learning_rate)\n",
    "lr_lambda = lambda epoch: (num_epochs - epoch) / num_epochs\n",
    "lr_scheduler = torch.optim.lr_scheduler.LambdaLR(optimizer, lr_lambda=lr_lambda)\n",
    "criterion  = nn.CrossEntropyLoss()"
   ]
  },
  {
   "cell_type": "code",
   "execution_count": 198,
   "metadata": {
    "execution": {
     "iopub.execute_input": "2022-10-12T11:23:59.683449Z",
     "iopub.status.busy": "2022-10-12T11:23:59.683088Z",
     "iopub.status.idle": "2022-10-12T11:23:59.688947Z",
     "shell.execute_reply": "2022-10-12T11:23:59.688059Z",
     "shell.execute_reply.started": "2022-10-12T11:23:59.683424Z"
    }
   },
   "outputs": [
    {
     "name": "stderr",
     "output_type": "stream",
     "text": [
      "100%|██████████| 7148/7148 [00:16<00:00, 421.99it/s]\n"
     ]
    },
    {
     "name": "stdout",
     "output_type": "stream",
     "text": [
      "Epoch: 0, Loss: 6.1642913818359375\n"
     ]
    },
    {
     "name": "stderr",
     "output_type": "stream",
     "text": [
      "100%|██████████| 7148/7148 [00:17<00:00, 407.63it/s]\n"
     ]
    },
    {
     "name": "stdout",
     "output_type": "stream",
     "text": [
      "Epoch: 1, Loss: 5.088748931884766\n"
     ]
    },
    {
     "name": "stderr",
     "output_type": "stream",
     "text": [
      "100%|██████████| 7148/7148 [00:17<00:00, 400.06it/s]\n"
     ]
    },
    {
     "name": "stdout",
     "output_type": "stream",
     "text": [
      "Epoch: 2, Loss: 6.064475059509277\n"
     ]
    },
    {
     "name": "stderr",
     "output_type": "stream",
     "text": [
      "100%|██████████| 7148/7148 [00:17<00:00, 407.52it/s]\n"
     ]
    },
    {
     "name": "stdout",
     "output_type": "stream",
     "text": [
      "Epoch: 3, Loss: 4.991163730621338\n"
     ]
    },
    {
     "name": "stderr",
     "output_type": "stream",
     "text": [
      "100%|██████████| 7148/7148 [00:18<00:00, 393.03it/s]"
     ]
    },
    {
     "name": "stdout",
     "output_type": "stream",
     "text": [
      "Epoch: 4, Loss: 5.016488075256348\n",
      "Finish Training!\n"
     ]
    },
    {
     "name": "stderr",
     "output_type": "stream",
     "text": [
      "\n"
     ]
    }
   ],
   "source": [
    "\n",
    "for epoch in range(num_epochs):\n",
    "    for x,y in tqdm(cbow_dataloader):\n",
    "        x, y = x.to(device), y.to(device)\n",
    "        output = cbow_model(x)\n",
    "\n",
    "        optimizer.zero_grad()\n",
    "        loss = criterion(output, y)\n",
    "        loss.backward()\n",
    "        optimizer.step()\n",
    "    lr_scheduler.step()\n",
    "    if (epoch) % 1 == 0:\n",
    "        print(f\"Epoch: {epoch}, Loss: {loss.item()}\")\n",
    "print(\"Finish Training!\")"
   ]
  },
  {
   "cell_type": "code",
   "execution_count": 199,
   "metadata": {},
   "outputs": [
    {
     "name": "stdout",
     "output_type": "stream",
     "text": [
      "(4099, 300)\n"
     ]
    }
   ],
   "source": [
    "embeddings = list(cbow_model.parameters())[0]\n",
    "embeddings = embeddings.cpu().detach().numpy()\n",
    "print(embeddings.shape)"
   ]
  },
  {
   "cell_type": "code",
   "execution_count": 200,
   "metadata": {},
   "outputs": [],
   "source": [
    "#Ref: Finding Similar Words: https://github.com/OlgaChernytska/word2vec-pytorch/blob/main/notebooks/Inference.ipynb\n",
    "\n",
    "def get_top_similar(word, top_n = 10):\n",
    "    word_id = vocab[word]\n",
    "    word_vec = embeddings[word_id]\n",
    "    word_vec = word_vec.reshape(len(word_vec), 1)\n",
    "    dists = np.matmul(embeddings, word_vec).flatten()\n",
    "    top_n_ids = np.argsort(-dists)[1: top_n + 1]\n",
    "\n",
    "    top_n_dict = {}\n",
    "    for top_n_id in top_n_ids:\n",
    "        top_n_word = vocab.lookup_token(top_n_id)\n",
    "        top_n_dict[top_n_word] = dists[top_n_id]\n",
    "    return top_n_dict\n",
    "\n",
    "    \n",
    "\n"
   ]
  },
  {
   "cell_type": "code",
   "execution_count": 205,
   "metadata": {},
   "outputs": [
    {
     "data": {
      "text/plain": [
       "{'way': 61.01765,\n",
       " 'principal': 58.88688,\n",
       " 'record': 51.147896,\n",
       " 'flight': 50.603806,\n",
       " 'transportation': 49.83083,\n",
       " 'are': 49.626415,\n",
       " 'nominated': 49.205944,\n",
       " 'rebuilt': 47.76376,\n",
       " 'elements': 46.621918,\n",
       " 'hall': 46.60324}"
      ]
     },
     "execution_count": 205,
     "metadata": {},
     "output_type": "execute_result"
    }
   ],
   "source": [
    "get_top_similar('england')"
   ]
  },
  {
   "cell_type": "code",
   "execution_count": 204,
   "metadata": {},
   "outputs": [
    {
     "data": {
      "text/plain": [
       "{'personality': 59.5606,\n",
       " 'however': 58.291,\n",
       " 'expressed': 57.54368,\n",
       " 'government': 56.87165,\n",
       " 'volume': 55.61387,\n",
       " 'contemporary': 55.53237,\n",
       " 'numerous': 54.504128,\n",
       " 'pitch': 54.057922,\n",
       " '80': 52.146004,\n",
       " 'railroad': 51.321465}"
      ]
     },
     "execution_count": 204,
     "metadata": {},
     "output_type": "execute_result"
    }
   ],
   "source": [
    "get_top_similar('father')"
   ]
  },
  {
   "cell_type": "code",
   "execution_count": 203,
   "metadata": {},
   "outputs": [],
   "source": [
    "#Ref: https://towardsdatascience.com/word2vec-with-pytorch-implementing-original-paper-2cd7040120b0"
   ]
  },
  {
   "cell_type": "code",
   "execution_count": null,
   "metadata": {},
   "outputs": [],
   "source": []
  }
 ],
 "metadata": {
  "kernelspec": {
   "display_name": "Python 3 (ipykernel)",
   "language": "python",
   "name": "python3"
  },
  "language_info": {
   "codemirror_mode": {
    "name": "ipython",
    "version": 3
   },
   "file_extension": ".py",
   "mimetype": "text/x-python",
   "name": "python",
   "nbconvert_exporter": "python",
   "pygments_lexer": "ipython3",
   "version": "3.9.13"
  },
  "vscode": {
   "interpreter": {
    "hash": "f28fe8d6c9129943004dd44e208a3cea882e4cd3a42a08d2b666db063ef9019d"
   }
  }
 },
 "nbformat": 4,
 "nbformat_minor": 4
}
