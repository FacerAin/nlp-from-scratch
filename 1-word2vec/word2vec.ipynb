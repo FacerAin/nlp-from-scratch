{
 "cells": [
  {
   "cell_type": "code",
   "execution_count": 1,
   "metadata": {
    "execution": {
     "iopub.execute_input": "2022-10-12T11:14:21.117058Z",
     "iopub.status.busy": "2022-10-12T11:14:21.116231Z",
     "iopub.status.idle": "2022-10-12T11:14:26.392315Z",
     "shell.execute_reply": "2022-10-12T11:14:26.391408Z",
     "shell.execute_reply.started": "2022-10-12T11:14:21.116974Z"
    }
   },
   "outputs": [],
   "source": [
    "#For Colab Env\n",
    "#!pip install torchtext\n",
    "#!pip install torchdata"
   ]
  },
  {
   "cell_type": "code",
   "execution_count": 2,
   "metadata": {
    "execution": {
     "iopub.execute_input": "2022-10-12T11:14:26.396799Z",
     "iopub.status.busy": "2022-10-12T11:14:26.396564Z",
     "iopub.status.idle": "2022-10-12T11:14:27.645853Z",
     "shell.execute_reply": "2022-10-12T11:14:27.644740Z",
     "shell.execute_reply.started": "2022-10-12T11:14:26.396776Z"
    }
   },
   "outputs": [
    {
     "name": "stderr",
     "output_type": "stream",
     "text": [
      "c:\\Users\\syw51\\anaconda3\\envs\\torch\\lib\\site-packages\\tqdm\\auto.py:22: TqdmWarning: IProgress not found. Please update jupyter and ipywidgets. See https://ipywidgets.readthedocs.io/en/stable/user_install.html\n",
      "  from .autonotebook import tqdm as notebook_tqdm\n"
     ]
    }
   ],
   "source": [
    "import urllib\n",
    "import os\n",
    "import collections\n",
    "import numpy as np\n",
    "from tqdm import tqdm\n",
    "import torch\n",
    "from torch import nn\n",
    "import torchtext\n",
    "from torch.utils.data import Dataset, DataLoader\n",
    "\n"
   ]
  },
  {
   "cell_type": "markdown",
   "metadata": {},
   "source": [
    "### Preparing Data"
   ]
  },
  {
   "cell_type": "code",
   "execution_count": 3,
   "metadata": {
    "execution": {
     "iopub.execute_input": "2022-10-12T11:23:44.288563Z",
     "iopub.status.busy": "2022-10-12T11:23:44.288228Z",
     "iopub.status.idle": "2022-10-12T11:23:45.731555Z",
     "shell.execute_reply": "2022-10-12T11:23:45.730814Z",
     "shell.execute_reply.started": "2022-10-12T11:23:44.288538Z"
    }
   },
   "outputs": [],
   "source": [
    "\n",
    "os.makedirs('data', exist_ok=True)\n",
    "dataset_train = torchtext.datasets.WikiText2(root='./data')\n",
    "tokenizer = torchtext.data.utils.get_tokenizer('basic_english', language=\"en\")\n",
    "dataset_train = list(dataset_train[0])"
   ]
  },
  {
   "cell_type": "code",
   "execution_count": 4,
   "metadata": {
    "execution": {
     "iopub.execute_input": "2022-10-12T11:23:46.510670Z",
     "iopub.status.busy": "2022-10-12T11:23:46.509849Z",
     "iopub.status.idle": "2022-10-12T11:23:46.781308Z",
     "shell.execute_reply": "2022-10-12T11:23:46.780611Z",
     "shell.execute_reply.started": "2022-10-12T11:23:46.510637Z"
    }
   },
   "outputs": [
    {
     "name": "stdout",
     "output_type": "stream",
     "text": [
      "Start Tokenizing...\n"
     ]
    },
    {
     "name": "stderr",
     "output_type": "stream",
     "text": [
      "100%|██████████| 120000/120000 [00:03<00:00, 38714.84it/s]\n"
     ]
    },
    {
     "name": "stdout",
     "output_type": "stream",
     "text": [
      "Making Vocab...\n"
     ]
    },
    {
     "name": "stderr",
     "output_type": "stream",
     "text": [
      "100%|██████████| 120000/120000 [00:00<00:00, 124450.21it/s]\n"
     ]
    }
   ],
   "source": [
    "tokenized_data = []\n",
    "counter = collections.Counter()\n",
    "\n",
    "print('Start Tokenizing...')\n",
    "for line in tqdm(dataset_train):\n",
    "    tokens = tokenizer(line)\n",
    "    tokenized_data.append(tokens)\n",
    "\n",
    "print('Making Vocab...')\n",
    "for line in tqdm(tokenized_data):\n",
    "    counter.update(line)\n",
    "\n",
    "vocab = torchtext.vocab.vocab(counter, min_freq=50, specials=[\"<unk>\"])\n",
    "vocab.set_default_index(vocab[\"<unk>\"])"
   ]
  },
  {
   "cell_type": "code",
   "execution_count": 5,
   "metadata": {
    "execution": {
     "iopub.execute_input": "2022-10-12T11:23:48.128660Z",
     "iopub.status.busy": "2022-10-12T11:23:48.127872Z",
     "iopub.status.idle": "2022-10-12T11:23:48.134802Z",
     "shell.execute_reply": "2022-10-12T11:23:48.134041Z",
     "shell.execute_reply.started": "2022-10-12T11:23:48.128628Z"
    }
   },
   "outputs": [],
   "source": [
    "class CBOWDataset(Dataset):\n",
    "    def __init__(self, tokenized_data, window_size = 2, max_seq = 256):\n",
    "        self.x = []\n",
    "        self.y = []\n",
    "        \n",
    "        for tokens in tqdm(tokenized_data):\n",
    "            token_ids = [vocab[token] for token in tokens]\n",
    "            token_ids = token_ids[:max_seq]\n",
    "            for i, token_id in enumerate(token_ids):\n",
    "                if i-window_size >= 0 and i+window_size < len(token_ids):\n",
    "                    self.x.append(token_ids[i-window_size:i] + token_ids[i+1:i+window_size+1])\n",
    "                    self.y.append(token_id)\n",
    "        self.x = torch.LongTensor(self.x)\n",
    "        self.y = torch.LongTensor(self.y)\n",
    "        \n",
    "    def __len__(self):\n",
    "        return len(self.x)\n",
    "    def __getitem__(self, idx):\n",
    "        return self.x[idx] , self.y[idx]"
   ]
  },
  {
   "cell_type": "code",
   "execution_count": 6,
   "metadata": {
    "execution": {
     "iopub.execute_input": "2022-10-12T11:23:48.608376Z",
     "iopub.status.busy": "2022-10-12T11:23:48.608040Z",
     "iopub.status.idle": "2022-10-12T11:23:48.621964Z",
     "shell.execute_reply": "2022-10-12T11:23:48.621136Z",
     "shell.execute_reply.started": "2022-10-12T11:23:48.608349Z"
    }
   },
   "outputs": [
    {
     "name": "stdout",
     "output_type": "stream",
     "text": [
      "Making AG_NEWS Dataset\n"
     ]
    },
    {
     "name": "stderr",
     "output_type": "stream",
     "text": [
      " 53%|█████▎    | 64164/120000 [00:02<00:02, 23985.91it/s]\n"
     ]
    },
    {
     "ename": "KeyboardInterrupt",
     "evalue": "",
     "output_type": "error",
     "traceback": [
      "\u001b[1;31m---------------------------------------------------------------------------\u001b[0m",
      "\u001b[1;31mKeyboardInterrupt\u001b[0m                         Traceback (most recent call last)",
      "\u001b[1;32mc:\\Users\\syw51\\OneDrive\\문서\\GitHub\\nlp-from-scratch\\1-word2vec\\word2vec.ipynb 셀 7\u001b[0m in \u001b[0;36m<cell line: 2>\u001b[1;34m()\u001b[0m\n\u001b[0;32m      <a href='vscode-notebook-cell:/c%3A/Users/syw51/OneDrive/%EB%AC%B8%EC%84%9C/GitHub/nlp-from-scratch/1-word2vec/word2vec.ipynb#W6sZmlsZQ%3D%3D?line=0'>1</a>\u001b[0m \u001b[39mprint\u001b[39m(\u001b[39m'\u001b[39m\u001b[39mMaking AG_NEWS Dataset\u001b[39m\u001b[39m'\u001b[39m)\n\u001b[1;32m----> <a href='vscode-notebook-cell:/c%3A/Users/syw51/OneDrive/%EB%AC%B8%EC%84%9C/GitHub/nlp-from-scratch/1-word2vec/word2vec.ipynb#W6sZmlsZQ%3D%3D?line=1'>2</a>\u001b[0m news_dataset \u001b[39m=\u001b[39m AGNewsDataset(tokenized_data, label_data)\n",
      "\u001b[1;32mc:\\Users\\syw51\\OneDrive\\문서\\GitHub\\nlp-from-scratch\\1-word2vec\\word2vec.ipynb 셀 7\u001b[0m in \u001b[0;36mAGNewsDataset.__init__\u001b[1;34m(self, tokenized_data, label_data, max_seq)\u001b[0m\n\u001b[0;32m      <a href='vscode-notebook-cell:/c%3A/Users/syw51/OneDrive/%EB%AC%B8%EC%84%9C/GitHub/nlp-from-scratch/1-word2vec/word2vec.ipynb#W6sZmlsZQ%3D%3D?line=4'>5</a>\u001b[0m \u001b[39mself\u001b[39m\u001b[39m.\u001b[39mclasses \u001b[39m=\u001b[39m [\u001b[39m'\u001b[39m\u001b[39mWorld\u001b[39m\u001b[39m'\u001b[39m, \u001b[39m'\u001b[39m\u001b[39mSports\u001b[39m\u001b[39m'\u001b[39m, \u001b[39m'\u001b[39m\u001b[39mBusiness\u001b[39m\u001b[39m'\u001b[39m, \u001b[39m'\u001b[39m\u001b[39mSci/Tech\u001b[39m\u001b[39m'\u001b[39m]\n\u001b[0;32m      <a href='vscode-notebook-cell:/c%3A/Users/syw51/OneDrive/%EB%AC%B8%EC%84%9C/GitHub/nlp-from-scratch/1-word2vec/word2vec.ipynb#W6sZmlsZQ%3D%3D?line=6'>7</a>\u001b[0m \u001b[39mfor\u001b[39;00m tokens \u001b[39min\u001b[39;00m tqdm(tokenized_data):\n\u001b[1;32m----> <a href='vscode-notebook-cell:/c%3A/Users/syw51/OneDrive/%EB%AC%B8%EC%84%9C/GitHub/nlp-from-scratch/1-word2vec/word2vec.ipynb#W6sZmlsZQ%3D%3D?line=7'>8</a>\u001b[0m     token_ids \u001b[39m=\u001b[39m [vocab[token] \u001b[39mfor\u001b[39;00m token \u001b[39min\u001b[39;00m tokens]\n\u001b[0;32m      <a href='vscode-notebook-cell:/c%3A/Users/syw51/OneDrive/%EB%AC%B8%EC%84%9C/GitHub/nlp-from-scratch/1-word2vec/word2vec.ipynb#W6sZmlsZQ%3D%3D?line=8'>9</a>\u001b[0m     \u001b[39mself\u001b[39m\u001b[39m.\u001b[39mx\u001b[39m.\u001b[39mappend(token_ids)\n\u001b[0;32m     <a href='vscode-notebook-cell:/c%3A/Users/syw51/OneDrive/%EB%AC%B8%EC%84%9C/GitHub/nlp-from-scratch/1-word2vec/word2vec.ipynb#W6sZmlsZQ%3D%3D?line=9'>10</a>\u001b[0m     \u001b[39mself\u001b[39m\u001b[39m.\u001b[39my\u001b[39m.\u001b[39mappend(label_data)\n",
      "\u001b[1;32mc:\\Users\\syw51\\OneDrive\\문서\\GitHub\\nlp-from-scratch\\1-word2vec\\word2vec.ipynb 셀 7\u001b[0m in \u001b[0;36m<listcomp>\u001b[1;34m(.0)\u001b[0m\n\u001b[0;32m      <a href='vscode-notebook-cell:/c%3A/Users/syw51/OneDrive/%EB%AC%B8%EC%84%9C/GitHub/nlp-from-scratch/1-word2vec/word2vec.ipynb#W6sZmlsZQ%3D%3D?line=4'>5</a>\u001b[0m \u001b[39mself\u001b[39m\u001b[39m.\u001b[39mclasses \u001b[39m=\u001b[39m [\u001b[39m'\u001b[39m\u001b[39mWorld\u001b[39m\u001b[39m'\u001b[39m, \u001b[39m'\u001b[39m\u001b[39mSports\u001b[39m\u001b[39m'\u001b[39m, \u001b[39m'\u001b[39m\u001b[39mBusiness\u001b[39m\u001b[39m'\u001b[39m, \u001b[39m'\u001b[39m\u001b[39mSci/Tech\u001b[39m\u001b[39m'\u001b[39m]\n\u001b[0;32m      <a href='vscode-notebook-cell:/c%3A/Users/syw51/OneDrive/%EB%AC%B8%EC%84%9C/GitHub/nlp-from-scratch/1-word2vec/word2vec.ipynb#W6sZmlsZQ%3D%3D?line=6'>7</a>\u001b[0m \u001b[39mfor\u001b[39;00m tokens \u001b[39min\u001b[39;00m tqdm(tokenized_data):\n\u001b[1;32m----> <a href='vscode-notebook-cell:/c%3A/Users/syw51/OneDrive/%EB%AC%B8%EC%84%9C/GitHub/nlp-from-scratch/1-word2vec/word2vec.ipynb#W6sZmlsZQ%3D%3D?line=7'>8</a>\u001b[0m     token_ids \u001b[39m=\u001b[39m [vocab[token] \u001b[39mfor\u001b[39;00m token \u001b[39min\u001b[39;00m tokens]\n\u001b[0;32m      <a href='vscode-notebook-cell:/c%3A/Users/syw51/OneDrive/%EB%AC%B8%EC%84%9C/GitHub/nlp-from-scratch/1-word2vec/word2vec.ipynb#W6sZmlsZQ%3D%3D?line=8'>9</a>\u001b[0m     \u001b[39mself\u001b[39m\u001b[39m.\u001b[39mx\u001b[39m.\u001b[39mappend(token_ids)\n\u001b[0;32m     <a href='vscode-notebook-cell:/c%3A/Users/syw51/OneDrive/%EB%AC%B8%EC%84%9C/GitHub/nlp-from-scratch/1-word2vec/word2vec.ipynb#W6sZmlsZQ%3D%3D?line=9'>10</a>\u001b[0m     \u001b[39mself\u001b[39m\u001b[39m.\u001b[39my\u001b[39m.\u001b[39mappend(label_data)\n",
      "\u001b[1;31mKeyboardInterrupt\u001b[0m: "
     ]
    }
   ],
   "source": [
    "print('Making CBOW Dataset')\n",
    "cbow_dataset = CBOWDataset(tokenized_data, window_size = 4)"
   ]
  },
  {
   "cell_type": "code",
   "execution_count": null,
   "metadata": {
    "execution": {
     "iopub.execute_input": "2022-10-12T11:23:48.982047Z",
     "iopub.status.busy": "2022-10-12T11:23:48.981276Z",
     "iopub.status.idle": "2022-10-12T11:23:48.986841Z",
     "shell.execute_reply": "2022-10-12T11:23:48.986020Z",
     "shell.execute_reply.started": "2022-10-12T11:23:48.982016Z"
    }
   },
   "outputs": [],
   "source": [
    "class CBOW(nn.Module):\n",
    "    def __init__(self, vocab_size, emb_size):\n",
    "        super().__init__()\n",
    "        self.embedding = nn.Embedding(vocab_size, emb_size, sparse=True)\n",
    "        self.linear = nn.Linear(emb_size, vocab_size)\n",
    "    \n",
    "    def forward(self, x):\n",
    "        emb = torch.sum(self.embedding(x), dim=1)\n",
    "        output = self.linear(emb)\n",
    "        return output"
   ]
  },
  {
   "cell_type": "code",
   "execution_count": null,
   "metadata": {
    "execution": {
     "iopub.execute_input": "2022-10-12T11:23:49.352809Z",
     "iopub.status.busy": "2022-10-12T11:23:49.351870Z",
     "iopub.status.idle": "2022-10-12T11:23:49.357266Z",
     "shell.execute_reply": "2022-10-12T11:23:49.356454Z",
     "shell.execute_reply.started": "2022-10-12T11:23:49.352778Z"
    }
   },
   "outputs": [],
   "source": [
    "\n",
    "cbow_model = CBOW(vocab_size=len(vocab), emb_size=300)"
   ]
  },
  {
   "cell_type": "code",
   "execution_count": null,
   "metadata": {
    "execution": {
     "iopub.execute_input": "2022-10-12T11:23:58.840957Z",
     "iopub.status.busy": "2022-10-12T11:23:58.839851Z",
     "iopub.status.idle": "2022-10-12T11:23:58.844968Z",
     "shell.execute_reply": "2022-10-12T11:23:58.844144Z",
     "shell.execute_reply.started": "2022-10-12T11:23:58.840925Z"
    }
   },
   "outputs": [],
   "source": [
    "batch_size=256\n",
    "learning_rate = 0.025\n",
    "num_epochs = 5\n",
    "device = torch.device('cuda') if torch.cuda.is_available() else torch.device('cpu')"
   ]
  },
  {
   "cell_type": "code",
   "execution_count": null,
   "metadata": {
    "execution": {
     "iopub.execute_input": "2022-10-12T11:23:59.170807Z",
     "iopub.status.busy": "2022-10-12T11:23:59.170019Z",
     "iopub.status.idle": "2022-10-12T11:23:59.174746Z",
     "shell.execute_reply": "2022-10-12T11:23:59.173868Z",
     "shell.execute_reply.started": "2022-10-12T11:23:59.170777Z"
    }
   },
   "outputs": [],
   "source": [
    "\n",
    "cbow_dataloader = DataLoader(cbow_dataset, batch_size=batch_size, shuffle=True)"
   ]
  },
  {
   "cell_type": "code",
   "execution_count": null,
   "metadata": {
    "execution": {
     "iopub.execute_input": "2022-10-12T11:23:59.440767Z",
     "iopub.status.busy": "2022-10-12T11:23:59.439748Z",
     "iopub.status.idle": "2022-10-12T11:23:59.445688Z",
     "shell.execute_reply": "2022-10-12T11:23:59.444750Z",
     "shell.execute_reply.started": "2022-10-12T11:23:59.440736Z"
    }
   },
   "outputs": [],
   "source": [
    "cbow_model.train()\n",
    "cbow_model = cbow_model.to(device)\n",
    "optimizer = torch.optim.SGD(cbow_model.parameters(), lr=learning_rate)\n",
    "lr_lambda = lambda epoch: (num_epochs - epoch) / num_epochs\n",
    "lr_scheduler = torch.optim.lr_scheduler.LambdaLR(optimizer, lr_lambda=lr_lambda)\n",
    "criterion  = nn.CrossEntropyLoss()"
   ]
  },
  {
   "cell_type": "code",
   "execution_count": null,
   "metadata": {
    "execution": {
     "iopub.execute_input": "2022-10-12T11:23:59.683449Z",
     "iopub.status.busy": "2022-10-12T11:23:59.683088Z",
     "iopub.status.idle": "2022-10-12T11:23:59.688947Z",
     "shell.execute_reply": "2022-10-12T11:23:59.688059Z",
     "shell.execute_reply.started": "2022-10-12T11:23:59.683424Z"
    }
   },
   "outputs": [
    {
     "name": "stderr",
     "output_type": "stream",
     "text": [
      "100%|██████████| 7148/7148 [00:16<00:00, 421.99it/s]\n"
     ]
    },
    {
     "name": "stdout",
     "output_type": "stream",
     "text": [
      "Epoch: 0, Loss: 6.1642913818359375\n"
     ]
    },
    {
     "name": "stderr",
     "output_type": "stream",
     "text": [
      "100%|██████████| 7148/7148 [00:17<00:00, 407.63it/s]\n"
     ]
    },
    {
     "name": "stdout",
     "output_type": "stream",
     "text": [
      "Epoch: 1, Loss: 5.088748931884766\n"
     ]
    },
    {
     "name": "stderr",
     "output_type": "stream",
     "text": [
      "100%|██████████| 7148/7148 [00:17<00:00, 400.06it/s]\n"
     ]
    },
    {
     "name": "stdout",
     "output_type": "stream",
     "text": [
      "Epoch: 2, Loss: 6.064475059509277\n"
     ]
    },
    {
     "name": "stderr",
     "output_type": "stream",
     "text": [
      "100%|██████████| 7148/7148 [00:17<00:00, 407.52it/s]\n"
     ]
    },
    {
     "name": "stdout",
     "output_type": "stream",
     "text": [
      "Epoch: 3, Loss: 4.991163730621338\n"
     ]
    },
    {
     "name": "stderr",
     "output_type": "stream",
     "text": [
      "100%|██████████| 7148/7148 [00:18<00:00, 393.03it/s]"
     ]
    },
    {
     "name": "stdout",
     "output_type": "stream",
     "text": [
      "Epoch: 4, Loss: 5.016488075256348\n",
      "Finish Training!\n"
     ]
    },
    {
     "name": "stderr",
     "output_type": "stream",
     "text": [
      "\n"
     ]
    }
   ],
   "source": [
    "\n",
    "for epoch in range(num_epochs):\n",
    "    for x,y in tqdm(cbow_dataloader):\n",
    "        x, y = x.to(device), y.to(device)\n",
    "        output = cbow_model(x)\n",
    "\n",
    "        optimizer.zero_grad()\n",
    "        loss = criterion(output, y)\n",
    "        loss.backward()\n",
    "        optimizer.step()\n",
    "    lr_scheduler.step()\n",
    "    if (epoch) % 1 == 0:\n",
    "        print(f\"Epoch: {epoch}, Loss: {loss.item()}\")\n",
    "print(\"Finish Training!\")"
   ]
  },
  {
   "cell_type": "code",
   "execution_count": null,
   "metadata": {},
   "outputs": [
    {
     "name": "stdout",
     "output_type": "stream",
     "text": [
      "(4099, 300)\n"
     ]
    }
   ],
   "source": [
    "embeddings = list(cbow_model.parameters())[0]\n",
    "embeddings = embeddings.cpu().detach().numpy()\n",
    "print(embeddings.shape)"
   ]
  },
  {
   "cell_type": "code",
   "execution_count": null,
   "metadata": {},
   "outputs": [],
   "source": [
    "#Ref: Finding Similar Words: https://github.com/OlgaChernytska/word2vec-pytorch/blob/main/notebooks/Inference.ipynb\n",
    "\n",
    "def get_top_similar(word, top_n = 10):\n",
    "    word_id = vocab[word]\n",
    "    word_vec = embeddings[word_id]\n",
    "    word_vec = word_vec.reshape(len(word_vec), 1)\n",
    "    dists = np.matmul(embeddings, word_vec).flatten()\n",
    "    top_n_ids = np.argsort(-dists)[1: top_n + 1]\n",
    "\n",
    "    top_n_dict = {}\n",
    "    for top_n_id in top_n_ids:\n",
    "        top_n_word = vocab.lookup_token(top_n_id)\n",
    "        top_n_dict[top_n_word] = dists[top_n_id]\n",
    "    return top_n_dict\n",
    "\n",
    "    \n",
    "\n"
   ]
  },
  {
   "cell_type": "code",
   "execution_count": null,
   "metadata": {},
   "outputs": [
    {
     "data": {
      "text/plain": [
       "{'55': 61.385403,\n",
       " 'question': 60.876427,\n",
       " 'engineer': 58.755264,\n",
       " 'split': 58.75271,\n",
       " 'inscriptions': 58.15435,\n",
       " 'perform': 53.89521,\n",
       " 'travel': 53.53224,\n",
       " 'belief': 53.351013,\n",
       " 'castle': 52.244354,\n",
       " 'own': 51.247925}"
      ]
     },
     "execution_count": 209,
     "metadata": {},
     "output_type": "execute_result"
    }
   ],
   "source": [
    "get_top_similar('france')"
   ]
  },
  {
   "cell_type": "code",
   "execution_count": null,
   "metadata": {},
   "outputs": [
    {
     "data": {
      "text/plain": [
       "{'activities': 61.80327,\n",
       " 'finishing': 57.348743,\n",
       " 'cardinal': 56.582962,\n",
       " 'trek': 52.43073,\n",
       " 'metal': 51.49663,\n",
       " 'least': 51.170532,\n",
       " 'sarnia': 50.382374,\n",
       " 'save': 49.95187,\n",
       " 'striking': 49.363857,\n",
       " 'starlings': 49.006348}"
      ]
     },
     "execution_count": 206,
     "metadata": {},
     "output_type": "execute_result"
    }
   ],
   "source": [
    "get_top_similar('mother')"
   ]
  },
  {
   "cell_type": "code",
   "execution_count": null,
   "metadata": {},
   "outputs": [
    {
     "data": {
      "text/plain": [
       "{'mile': 68.737206,\n",
       " 'work': 68.1571,\n",
       " 'whilst': 61.222008,\n",
       " 'praised': 59.988327,\n",
       " 'child': 53.383495,\n",
       " 'justice': 52.1623,\n",
       " 'dominated': 51.615585,\n",
       " 'premiere': 51.545532,\n",
       " 'surrender': 49.91588,\n",
       " 'identified': 48.85046}"
      ]
     },
     "execution_count": 207,
     "metadata": {},
     "output_type": "execute_result"
    }
   ],
   "source": [
    "get_top_similar('king')"
   ]
  },
  {
   "cell_type": "code",
   "execution_count": null,
   "metadata": {},
   "outputs": [],
   "source": [
    "#Ref: https://towardsdatascience.com/word2vec-with-pytorch-implementing-original-paper-2cd7040120b0"
   ]
  },
  {
   "cell_type": "code",
   "execution_count": null,
   "metadata": {},
   "outputs": [],
   "source": []
  }
 ],
 "metadata": {
  "kernelspec": {
   "display_name": "Python 3 (ipykernel)",
   "language": "python",
   "name": "python3"
  },
  "language_info": {
   "codemirror_mode": {
    "name": "ipython",
    "version": 3
   },
   "file_extension": ".py",
   "mimetype": "text/x-python",
   "name": "python",
   "nbconvert_exporter": "python",
   "pygments_lexer": "ipython3",
   "version": "3.9.13"
  },
  "vscode": {
   "interpreter": {
    "hash": "f28fe8d6c9129943004dd44e208a3cea882e4cd3a42a08d2b666db063ef9019d"
   }
  }
 },
 "nbformat": 4,
 "nbformat_minor": 4
}
