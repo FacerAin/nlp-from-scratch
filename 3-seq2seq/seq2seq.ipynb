{
 "cells": [
  {
   "cell_type": "markdown",
   "metadata": {},
   "source": [
    "!conda install -c conda-forge spacy\n",
    "!python -m spacy download en_core_web_sm\n",
    "!python -m spacy download de_core_news_sm\n",
    "!pip install wasabi==0.9.1"
   ]
  },
  {
   "cell_type": "code",
   "execution_count": 61,
   "metadata": {},
   "outputs": [],
   "source": [
    "import urllib\n",
    "import random\n",
    "import os\n",
    "import collections\n",
    "import math\n",
    "import numpy as np\n",
    "from tqdm import tqdm\n",
    "import torch\n",
    "from torch import nn\n",
    "import torchtext\n",
    "from torch.utils.data import Dataset, DataLoader, random_split\n",
    "\n"
   ]
  },
  {
   "cell_type": "code",
   "execution_count": 62,
   "metadata": {},
   "outputs": [],
   "source": [
    "os.makedirs('data', exist_ok=True)\n",
    "dataset_train, dataset_test = torchtext.datasets.Multi30k(root='./data', split=('train', 'test'), language_pair=('de', 'en'))\n",
    "tokenizer_en = torchtext.data.utils.get_tokenizer('spacy', language=\"en_core_web_sm\")\n",
    "tokenizer_de = torchtext.data.utils.get_tokenizer('spacy', language=\"de_core_news_sm\")\n",
    "dataset_train = list(dataset_train)\n",
    "dataset_test = list(dataset_test)"
   ]
  },
  {
   "cell_type": "code",
   "execution_count": 63,
   "metadata": {},
   "outputs": [
    {
     "name": "stdout",
     "output_type": "stream",
     "text": [
      "Start Tokenizing...\n"
     ]
    },
    {
     "name": "stderr",
     "output_type": "stream",
     "text": [
      "100%|██████████| 29001/29001 [00:04<00:00, 6112.96it/s]\n"
     ]
    },
    {
     "name": "stdout",
     "output_type": "stream",
     "text": [
      "Making En Vocab\n"
     ]
    },
    {
     "name": "stderr",
     "output_type": "stream",
     "text": [
      "100%|██████████| 29001/29001 [00:00<00:00, 255177.99it/s]\n"
     ]
    },
    {
     "name": "stdout",
     "output_type": "stream",
     "text": [
      "Making De Vocab\n"
     ]
    },
    {
     "name": "stderr",
     "output_type": "stream",
     "text": [
      "100%|██████████| 29001/29001 [00:00<00:00, 219270.13it/s]\n"
     ]
    }
   ],
   "source": [
    "tokenized_en_data = []\n",
    "tokenized_de_data = []\n",
    "counter_en = collections.Counter()\n",
    "counter_de = collections.Counter()\n",
    "\n",
    "print('Start Tokenizing...')\n",
    "for de, en in tqdm(dataset_train):\n",
    "    tokens_de = tokenizer_en(de)\n",
    "    tokens_en = tokenizer_de(en)\n",
    "    tokenized_de_data.append(tokens_de)\n",
    "    tokenized_en_data.append(tokens_en)\n",
    "    \n",
    "print('Making En Vocab')\n",
    "for line in tqdm(tokenized_en_data):\n",
    "    counter_en.update(line)\n",
    "\n",
    "print('Making De Vocab')\n",
    "for line in tqdm(tokenized_de_data):\n",
    "    counter_de.update(line)\n",
    "\n",
    "vocab_en = torchtext.vocab.vocab(counter_en, min_freq=1, specials=[\"<unk>\", \"<pad>\", \"<sos>\", \"<eos>\"])\n",
    "vocab_de = torchtext.vocab.vocab(counter_de, min_freq=1, specials=[\"<unk>\", \"<pad>\", \"<sos>\", \"<eos>\"])\n",
    "\n",
    "\n"
   ]
  },
  {
   "cell_type": "code",
   "execution_count": 64,
   "metadata": {},
   "outputs": [],
   "source": [
    "class Multi30kDataset(Dataset):\n",
    "    def __init__(self, tokenized_src, tokenized_tgt, vocab_src, vocab_tgt, max_seq = 256):\n",
    "        self.src = []\n",
    "        self.tgt = []\n",
    "\n",
    "        for tokens in tqdm(tokenized_src, \"Src data\"):\n",
    "            token_ids = [vocab_src['<sos>']]\n",
    "            token_ids += [vocab_src[token] for token in tokens]\n",
    "            token_ids += [vocab_src['<eos>']]\n",
    "            self.src.append(token_ids)\n",
    "\n",
    "        for tokens in tqdm(tokenized_tgt, \"Tgt data\"):\n",
    "            token_ids = [vocab_tgt['<sos>']]\n",
    "            token_ids += [vocab_tgt[token] for token in tokens]\n",
    "            token_ids += [vocab_tgt['<eos>']]\n",
    "            self.tgt.append(token_ids)\n",
    "\n",
    "    def __len__(self):\n",
    "        return len(self.src)\n",
    "\n",
    "    def __getitem__(self, idx):\n",
    "        return torch.tensor(self.src[idx]), torch.tensor(self.tgt[idx])\n",
    "        \n"
   ]
  },
  {
   "cell_type": "code",
   "execution_count": 65,
   "metadata": {},
   "outputs": [
    {
     "name": "stderr",
     "output_type": "stream",
     "text": [
      "Src data: 100%|██████████| 29001/29001 [00:00<00:00, 69710.33it/s]\n",
      "Tgt data: 100%|██████████| 29001/29001 [00:00<00:00, 83243.63it/s]\n"
     ]
    }
   ],
   "source": [
    "multi30k_dataset = Multi30kDataset(tokenized_de_data, tokenized_en_data, vocab_de, vocab_en)"
   ]
  },
  {
   "cell_type": "code",
   "execution_count": 66,
   "metadata": {},
   "outputs": [],
   "source": [
    "train_ratio = 0.8\n",
    "train_size = int(train_ratio*len(multi30k_dataset))\n",
    "valid_size = len(multi30k_dataset) - train_size\n",
    "train_dataset, valid_dataset = random_split(multi30k_dataset, [train_size, valid_size])"
   ]
  },
  {
   "cell_type": "code",
   "execution_count": 67,
   "metadata": {},
   "outputs": [],
   "source": [
    "#Ref: https://github.com/bentrevett/pytorch-seq2seq/blob/master/1%20-%20Sequence%20to%20Sequence%20Learning%20with%20Neural%20Networks.ipynb\n",
    "class Encoder(nn.Module):\n",
    "    def __init__(self, vocab_size, embedding_size, hidden_size):\n",
    "        super().__init__()\n",
    "        self.embedding = nn.Embedding(vocab_size, embedding_size)\n",
    "        self.lstm = nn.LSTM(embedding_size, hidden_size, batch_first=True)\n",
    "    def forward(self, input):\n",
    "\n",
    "        input = self.embedding(input)\n",
    "        #input: [batch_size, sentence_len, emb_size]\n",
    "\n",
    "        output, (hidden, cell) = self.lstm(input)\n",
    "\n",
    "        return hidden, cell"
   ]
  },
  {
   "cell_type": "code",
   "execution_count": 68,
   "metadata": {},
   "outputs": [],
   "source": [
    "class Decoder(nn.Module):\n",
    "    def __init__(self, vocab_size, embedding_size, hidden_size):\n",
    "        super().__init__()\n",
    "        self.vocab_size = vocab_size\n",
    "        self.embedding = nn.Embedding(vocab_size, embedding_size)\n",
    "        self.lstm = nn.LSTM(embedding_size, hidden_size, batch_first=True)\n",
    "        self.out = nn.Linear(hidden_size, vocab_size)\n",
    "\n",
    "    def forward(self, input, hidden, cell):\n",
    "        #input: [batch_size]\n",
    "        input = input.unsqueeze(1)\n",
    "        #input: [batch_size, 1]\n",
    "        input = self.embedding(input)\n",
    "        #input: [batch_size, 1, emb_size]\n",
    "        output ,(hidden,cell) = self.lstm(input, (hidden, cell))\n",
    "        #output: [batch_size, 1, hidden_size]\n",
    "        prediction = self.out(output.squeeze(1))\n",
    "        #prediction: [batch_size, output_size]\n",
    "        return prediction, (hidden, cell)\n"
   ]
  },
  {
   "cell_type": "code",
   "execution_count": 69,
   "metadata": {},
   "outputs": [],
   "source": [
    "class Seq2Seq(nn.Module):\n",
    "    def __init__(self, encoder, decoder, device):\n",
    "        super().__init__()\n",
    "        self.encoder = encoder\n",
    "        self.decoder = decoder\n",
    "        self.device = device\n",
    "\n",
    "    def forward(self, src, tgt, teacher_forcing_ratio= 0.5):\n",
    "        batch_size, tgt_len = tgt.size()\n",
    "        tgt_vocab_size = self.decoder.vocab_size\n",
    "\n",
    "        outputs = torch.zeros(tgt_len, batch_size, tgt_vocab_size).to(self.device)\n",
    "\n",
    "        hidden, cell = self.encoder(src)\n",
    "        input = tgt[:,0]\n",
    "        for t in range(1, tgt_len):\n",
    "            output, (hidden, cell) = self.decoder(input, hidden, cell)\n",
    "            outputs[t] = output\n",
    "            top1 = output.argmax(1)\n",
    "\n",
    "            is_teacher_forcing = random.random() < teacher_forcing_ratio\n",
    "\n",
    "            input = tgt[:,t] if is_teacher_forcing else top1\n",
    "            #outputs: [tgt_len, batch_size, output_size]\n",
    "        \n",
    "        outputs = outputs.transpose(0,1)\n",
    "        #outputs: [batch_size, tgt_len, output_size]\n",
    "        return outputs\n",
    "        \n",
    "\n",
    "\n",
    "\n",
    "\n"
   ]
  },
  {
   "cell_type": "code",
   "execution_count": 70,
   "metadata": {},
   "outputs": [],
   "source": [
    "device = torch.device('cuda') if torch.cuda.is_available() else torch.device('cpu')"
   ]
  },
  {
   "cell_type": "code",
   "execution_count": 71,
   "metadata": {},
   "outputs": [],
   "source": [
    "batch_size=256\n",
    "learning_rate = 0.001\n",
    "num_epochs = 10"
   ]
  },
  {
   "cell_type": "code",
   "execution_count": 72,
   "metadata": {},
   "outputs": [],
   "source": [
    "def pad_collate_fn(batch):\n",
    "    collate_x = []\n",
    "    collate_y = []\n",
    "    for src, tgt in batch:\n",
    "        collate_x.append(src)\n",
    "        collate_y.append(tgt)\n",
    "    collate_x = nn.utils.rnn.pad_sequence(collate_x, padding_value=vocab_de['<pad>'], batch_first=True)\n",
    "    collate_y = nn.utils.rnn.pad_sequence(collate_y, padding_value=vocab_en['<pad>'], batch_first=True)\n",
    "    return (collate_x, collate_y)"
   ]
  },
  {
   "cell_type": "code",
   "execution_count": 73,
   "metadata": {},
   "outputs": [],
   "source": [
    "train_dataloader = DataLoader(train_dataset, batch_size=batch_size, shuffle=True, collate_fn= pad_collate_fn)\n",
    "valid_dataloader = DataLoader(valid_dataset, batch_size=batch_size, shuffle=False, collate_fn= pad_collate_fn)"
   ]
  },
  {
   "cell_type": "code",
   "execution_count": 74,
   "metadata": {},
   "outputs": [],
   "source": [
    "encoder = Encoder(vocab_size = len(vocab_de), embedding_size=256, hidden_size=512)\n",
    "decoder = Decoder(vocab_size = len(vocab_en), embedding_size=256, hidden_size=512)\n",
    "model = Seq2Seq(encoder, decoder, device).to(device)"
   ]
  },
  {
   "cell_type": "code",
   "execution_count": 75,
   "metadata": {},
   "outputs": [],
   "source": [
    "optimizer = torch.optim.Adam(model.parameters(), lr=learning_rate)\n",
    "criterion = nn.CrossEntropyLoss(ignore_index = vocab_en['<pad>'])"
   ]
  },
  {
   "cell_type": "code",
   "execution_count": 76,
   "metadata": {},
   "outputs": [],
   "source": [
    "def train(dataloader, epoch):\n",
    "    model.train()\n",
    "    epoch_loss = 0\n",
    "    epoch_acc = 0\n",
    "    data_num = 0\n",
    "    for src,tgt in tqdm(dataloader, desc=f\"Epoch {epoch}\"):\n",
    "        src, tgt = src.to(device), tgt.to(device)\n",
    "        outputs = model(src, tgt)\n",
    "        #outputs: [batch_size, tgt_len, output_size]\n",
    "        #tgt: [batch_size, tgt_len, output_size]\n",
    "        output_size = outputs.shape[-1]\n",
    "        \n",
    "        output = outputs.reshape(-1,output_size)\n",
    "        #output: [(tgt_len - 1) * batch_size, output_size]\n",
    "        tgt = tgt.reshape(-1)\n",
    "        #tgt: [(tgt_len - 1) * batch_size]\n",
    "\n",
    "        optimizer.zero_grad()\n",
    "        loss = criterion(output, tgt)\n",
    "        loss.backward()\n",
    "        optimizer.step()\n",
    "        epoch_loss += loss.item()\n",
    "        data_num += src.size(0)\n",
    "\n",
    "    print(f\"Train Epoch: {epoch}, Loss: {epoch_loss/len(dataloader)}, PPL: {math.exp(epoch_loss/len(dataloader))}\")\n"
   ]
  },
  {
   "cell_type": "code",
   "execution_count": 77,
   "metadata": {},
   "outputs": [],
   "source": [
    "def evaluate(dataloader, epoch):\n",
    "    model.eval()\n",
    "    epoch_loss = 0\n",
    "    epoch_acc = 0\n",
    "    data_num = 0\n",
    "    for src,tgt in tqdm(dataloader, desc=f\"Epoch {epoch}\"):\n",
    "        src, tgt = src.to(device), tgt.to(device)\n",
    "        outputs = model(src, tgt, 0)\n",
    "        #outputs: [batch_size, tgt_len, output_size]\n",
    "        #tgt: [batch_size, tgt_len, output_size]\n",
    "        output_size = outputs.shape[-1]\n",
    "        output = outputs.reshape(-1,output_size)\n",
    "        #output: [(tgt_len - 1) * batch_size, output_size]\n",
    "        tgt = tgt.reshape(-1)\n",
    "        #tgt: [(tgt_len - 1) * batch_size]\n",
    "\n",
    "        loss = criterion(output, tgt)\n",
    "        epoch_loss += loss.item()\n",
    "        data_num += src.size(0)\n",
    "\n",
    "    print(f\"Evaluate Epoch: {epoch}, Loss: {epoch_loss/len(dataloader)}, PPL: {math.exp(epoch_loss/len(dataloader))}\")\n"
   ]
  },
  {
   "cell_type": "code",
   "execution_count": 78,
   "metadata": {},
   "outputs": [
    {
     "name": "stderr",
     "output_type": "stream",
     "text": [
      "Epoch 0: 100%|██████████| 91/91 [00:35<00:00,  2.58it/s]\n"
     ]
    },
    {
     "name": "stdout",
     "output_type": "stream",
     "text": [
      "Train Epoch: 0, Loss: 5.698838155348223, PPL: 298.5203651155682\n"
     ]
    },
    {
     "name": "stderr",
     "output_type": "stream",
     "text": [
      "Epoch 0: 100%|██████████| 23/23 [00:04<00:00,  4.99it/s]\n"
     ]
    },
    {
     "name": "stdout",
     "output_type": "stream",
     "text": [
      "Evaluate Epoch: 0, Loss: 5.464295262875765, PPL: 236.10940140214757\n",
      "--------------------------------------------------\n"
     ]
    },
    {
     "name": "stderr",
     "output_type": "stream",
     "text": [
      "Epoch 1: 100%|██████████| 91/91 [00:36<00:00,  2.52it/s]\n"
     ]
    },
    {
     "name": "stdout",
     "output_type": "stream",
     "text": [
      "Train Epoch: 1, Loss: 5.047465041443542, PPL: 155.62745488306055\n"
     ]
    },
    {
     "name": "stderr",
     "output_type": "stream",
     "text": [
      "Epoch 1: 100%|██████████| 23/23 [00:04<00:00,  5.29it/s]\n"
     ]
    },
    {
     "name": "stdout",
     "output_type": "stream",
     "text": [
      "Evaluate Epoch: 1, Loss: 5.497044666953709, PPL: 243.96985362761995\n",
      "--------------------------------------------------\n"
     ]
    },
    {
     "name": "stderr",
     "output_type": "stream",
     "text": [
      "Epoch 2: 100%|██████████| 91/91 [00:36<00:00,  2.50it/s]\n"
     ]
    },
    {
     "name": "stdout",
     "output_type": "stream",
     "text": [
      "Train Epoch: 2, Loss: 4.80440109378689, PPL: 122.0463747963338\n"
     ]
    },
    {
     "name": "stderr",
     "output_type": "stream",
     "text": [
      "Epoch 2: 100%|██████████| 23/23 [00:04<00:00,  5.21it/s]\n"
     ]
    },
    {
     "name": "stdout",
     "output_type": "stream",
     "text": [
      "Evaluate Epoch: 2, Loss: 5.344540886257006, PPL: 209.46169577659325\n",
      "--------------------------------------------------\n"
     ]
    },
    {
     "name": "stderr",
     "output_type": "stream",
     "text": [
      "Epoch 3: 100%|██████████| 91/91 [00:35<00:00,  2.54it/s]\n"
     ]
    },
    {
     "name": "stdout",
     "output_type": "stream",
     "text": [
      "Train Epoch: 3, Loss: 4.651103051154168, PPL: 104.70041181498266\n"
     ]
    },
    {
     "name": "stderr",
     "output_type": "stream",
     "text": [
      "Epoch 3: 100%|██████████| 23/23 [00:04<00:00,  4.95it/s]\n"
     ]
    },
    {
     "name": "stdout",
     "output_type": "stream",
     "text": [
      "Evaluate Epoch: 3, Loss: 5.194650567096213, PPL: 180.3051272436166\n",
      "--------------------------------------------------\n"
     ]
    },
    {
     "name": "stderr",
     "output_type": "stream",
     "text": [
      "Epoch 4: 100%|██████████| 91/91 [00:35<00:00,  2.55it/s]\n"
     ]
    },
    {
     "name": "stdout",
     "output_type": "stream",
     "text": [
      "Train Epoch: 4, Loss: 4.495924912966215, PPL: 89.65105006898598\n"
     ]
    },
    {
     "name": "stderr",
     "output_type": "stream",
     "text": [
      "Epoch 4: 100%|██████████| 23/23 [00:04<00:00,  5.21it/s]\n"
     ]
    },
    {
     "name": "stdout",
     "output_type": "stream",
     "text": [
      "Evaluate Epoch: 4, Loss: 5.15604947960895, PPL: 173.47777264243575\n",
      "--------------------------------------------------\n"
     ]
    },
    {
     "name": "stderr",
     "output_type": "stream",
     "text": [
      "Epoch 5: 100%|██████████| 91/91 [00:35<00:00,  2.53it/s]\n"
     ]
    },
    {
     "name": "stdout",
     "output_type": "stream",
     "text": [
      "Train Epoch: 5, Loss: 4.381862912859235, PPL: 79.98690332696309\n"
     ]
    },
    {
     "name": "stderr",
     "output_type": "stream",
     "text": [
      "Epoch 5: 100%|██████████| 23/23 [00:04<00:00,  5.32it/s]\n"
     ]
    },
    {
     "name": "stdout",
     "output_type": "stream",
     "text": [
      "Evaluate Epoch: 5, Loss: 5.101881276006284, PPL: 164.33076821382997\n",
      "--------------------------------------------------\n"
     ]
    },
    {
     "name": "stderr",
     "output_type": "stream",
     "text": [
      "Epoch 6: 100%|██████████| 91/91 [00:36<00:00,  2.51it/s]\n"
     ]
    },
    {
     "name": "stdout",
     "output_type": "stream",
     "text": [
      "Train Epoch: 6, Loss: 4.214052375856337, PPL: 67.63004762976226\n"
     ]
    },
    {
     "name": "stderr",
     "output_type": "stream",
     "text": [
      "Epoch 6: 100%|██████████| 23/23 [00:04<00:00,  4.95it/s]\n"
     ]
    },
    {
     "name": "stdout",
     "output_type": "stream",
     "text": [
      "Evaluate Epoch: 6, Loss: 5.00699520111084, PPL: 149.45497861824882\n",
      "--------------------------------------------------\n"
     ]
    },
    {
     "name": "stderr",
     "output_type": "stream",
     "text": [
      "Epoch 7: 100%|██████████| 91/91 [00:36<00:00,  2.51it/s]\n"
     ]
    },
    {
     "name": "stdout",
     "output_type": "stream",
     "text": [
      "Train Epoch: 7, Loss: 4.091618042725783, PPL: 59.836631644928985\n"
     ]
    },
    {
     "name": "stderr",
     "output_type": "stream",
     "text": [
      "Epoch 7: 100%|██████████| 23/23 [00:04<00:00,  5.10it/s]\n"
     ]
    },
    {
     "name": "stdout",
     "output_type": "stream",
     "text": [
      "Evaluate Epoch: 7, Loss: 4.9635215012923535, PPL: 143.09682532307124\n",
      "--------------------------------------------------\n"
     ]
    },
    {
     "name": "stderr",
     "output_type": "stream",
     "text": [
      "Epoch 8: 100%|██████████| 91/91 [00:34<00:00,  2.60it/s]\n"
     ]
    },
    {
     "name": "stdout",
     "output_type": "stream",
     "text": [
      "Train Epoch: 8, Loss: 4.011935951945546, PPL: 55.253735664295114\n"
     ]
    },
    {
     "name": "stderr",
     "output_type": "stream",
     "text": [
      "Epoch 8: 100%|██████████| 23/23 [00:04<00:00,  5.26it/s]\n"
     ]
    },
    {
     "name": "stdout",
     "output_type": "stream",
     "text": [
      "Evaluate Epoch: 8, Loss: 4.8594800285671065, PPL: 128.95713064726328\n",
      "--------------------------------------------------\n"
     ]
    },
    {
     "name": "stderr",
     "output_type": "stream",
     "text": [
      "Epoch 9: 100%|██████████| 91/91 [00:35<00:00,  2.58it/s]\n"
     ]
    },
    {
     "name": "stdout",
     "output_type": "stream",
     "text": [
      "Train Epoch: 9, Loss: 3.848877353982611, PPL: 46.9403362586983\n"
     ]
    },
    {
     "name": "stderr",
     "output_type": "stream",
     "text": [
      "Epoch 9: 100%|██████████| 23/23 [00:04<00:00,  5.60it/s]"
     ]
    },
    {
     "name": "stdout",
     "output_type": "stream",
     "text": [
      "Evaluate Epoch: 9, Loss: 4.884683774865192, PPL: 132.24863837777667\n",
      "--------------------------------------------------\n"
     ]
    },
    {
     "name": "stderr",
     "output_type": "stream",
     "text": [
      "\n"
     ]
    }
   ],
   "source": [
    "\n",
    "for epoch in range(num_epochs):\n",
    "    train(train_dataloader, epoch)\n",
    "    evaluate(valid_dataloader, epoch)\n",
    "    print('-'*50)"
   ]
  },
  {
   "cell_type": "code",
   "execution_count": null,
   "metadata": {},
   "outputs": [],
   "source": []
  }
 ],
 "metadata": {
  "kernelspec": {
   "display_name": "Python 3 (ipykernel)",
   "language": "python",
   "name": "python3"
  },
  "language_info": {
   "codemirror_mode": {
    "name": "ipython",
    "version": 3
   },
   "file_extension": ".py",
   "mimetype": "text/x-python",
   "name": "python",
   "nbconvert_exporter": "python",
   "pygments_lexer": "ipython3",
   "version": "3.9.13"
  },
  "orig_nbformat": 4,
  "vscode": {
   "interpreter": {
    "hash": "f28fe8d6c9129943004dd44e208a3cea882e4cd3a42a08d2b666db063ef9019d"
   }
  }
 },
 "nbformat": 4,
 "nbformat_minor": 2
}
